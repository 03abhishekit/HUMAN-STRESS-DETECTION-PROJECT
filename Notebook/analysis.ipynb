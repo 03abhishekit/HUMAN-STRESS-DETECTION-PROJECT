{
 "cells": [
  {
   "cell_type": "markdown",
   "id": "68828276",
   "metadata": {},
   "source": [
    "Anxiety Level: Reflects the individual's general feeling of anxiety or nervousness, which is a key indicator of stress.\n",
    "\n",
    "Self-Esteem: Measures how an individual perceives their own worth, with low self-esteem often correlating with higher stress.\n",
    "\n",
    "Mental Health History: Takes into account any past mental health issues, such as depression or anxiety disorders, which may contribute to current stress levels.\n",
    "\n",
    "Depression: Indicates the presence of depressive symptoms, which are often linked to higher stress.\n",
    "Headache: Chronic headaches can be a symptom of stress or an exacerbating factor.\n",
    "\n",
    "Blood Pressure: High blood pressure is often a physical manifestation of stress and can contribute to further health complications.\n",
    "\n",
    "Sleep Quality: Poor sleep quality is both a cause and consequence of stress, affecting mood, cognitive function, and overall well-being.\n",
    "\n",
    "Breathing Problem: Respiratory issues can worsen under stress, potentially indicating high levels of anxiety or panic.\n",
    "\n",
    "Noise Level: Environmental factors, such as excessive noise, can create stress and discomfort.\n",
    "Living Conditions: The quality of one's living environment, including cleanliness, safety, and space, can significantly impact stress levels.\n",
    "\n",
    "Safety: A sense of personal safety or insecurity, especially in a person's living or working environment, can influence stress.\n",
    "\n",
    "Basic Needs: The fulfillment of basic needs like food, shelter, and access to healthcare plays a critical role in managing stress.\n",
    "\n",
    "Academic Performance: Academic stress, whether due to workload, expectations, or performance issues, can be a significant contributor to overall stress.\n",
    "\n",
    "Study Load: The intensity and volume of academic work or study pressure can directly impact mental well-being.\n",
    "\n",
    "Teacher-Student Relationship: A supportive or strained relationship with teachers can influence an individual's stress, especially in academic settings.\n",
    "\n",
    "Future Career Concerns: Worries about future job prospects or career goals can be a significant source of anxiety and stress.\n",
    "\n",
    "Social Support: The level of emotional, social, or practical support from friends, family, or peers can act as a buffer against stress.\n",
    "\n",
    "Peer Pressure: The pressure to conform to social expectations, particularly among peers, can be a source of stress for many individuals.\n",
    "\n",
    "Extracurricular Activities: Participation in extracurricular activities can both alleviate and contribute to stress, depending on the individual’s balance and engagement.\n",
    "\n",
    "Bullying: Experiences of bullying or harassment, whether in school, work, or social settings, can significantly increase stress levels and have long-term psychological effects.\n",
    "\n",
    "By capturing data on these variables, your model aims to provide a holistic view of a person's stress level, considering both internal and external factors that influence their well-being."
   ]
  },
  {
   "cell_type": "markdown",
   "id": "1e4745d6",
   "metadata": {},
   "source": [
    "Understanding Stress and Its Impact\n",
    "Stress is a physiological and psychological response to external or internal challenges that require adaptation or coping. It can arise from various sources such as work pressures, academic demands, social relationships, health concerns, or environmental factors. While a certain amount of stress is normal and can even be motivating (often referred to as \"eustress\"), excessive stress can have a detrimental effect on an individual's physical and mental health. Chronic stress is linked to various health issues such as heart disease, anxiety disorders, depression, insomnia, and weakened immune systems.\n",
    "\n",
    "Stress is a complex phenomenon influenced by a combination of genetic, psychological, social, and environmental factors. The way an individual perceives and responds to stress plays a significant role in determining how it affects their well-being. Therefore, monitoring and managing stress is crucial for maintaining a healthy lifestyle.\n",
    "\n",
    "Data on Stress in the GitHub Repository\n",
    "The GitHub repository you're referring to contains data used to predict stress levels based on a set of psychological, physiological, and social factors. This dataset includes several features that influence an individual's stress, which are considered as input variables for a machine learning model (likely a Random Forest model, based on your earlier code). These features are designed to represent various aspects of a person's life that can contribute to their overall stress level. Below is an overview of the types of data contained in the repository:\n",
    "\n",
    "Anxiety Level: The individual's level of anxiety, which directly correlates with stress. Higher anxiety levels are typically associated with higher stress.\n",
    "\n",
    "Self-Esteem: The individual's perception of their own worth or value. Low self-esteem can lead to feelings of helplessness or frustration, contributing to stress.\n",
    "\n",
    "Mental Health History: Any previous history of mental health issues (such as depression, anxiety disorders, etc.) that may influence current stress levels.\n",
    "\n",
    "Depression: The presence of depressive symptoms, which are often accompanied by feelings of low energy, hopelessness, and stress.\n",
    "\n",
    "Headache: Chronic headaches or migraines, which can be both a symptom and cause of stress.\n",
    "\n",
    "Blood Pressure: High blood pressure can be a direct physical consequence of stress, as the body responds to stressors by increasing heart rate and blood pressure.\n",
    "\n",
    "Sleep Quality: Poor sleep is both a consequence and a contributing factor to stress. Stress can disrupt sleep, while lack of quality sleep can exacerbate stress.\n",
    "\n",
    "Breathing Problem: Respiratory issues, including shortness of breath or asthma, which can be influenced by stress, particularly in anxious individuals.\n",
    "\n",
    "Noise Level: Environmental noise can be a significant stressor, contributing to discomfort and agitation.\n",
    "\n",
    "Living Conditions: The quality of the person's living environment, which can influence their overall stress. Issues like overcrowding or lack of basic amenities can increase stress.\n",
    "\n",
    "Safety: A sense of physical and emotional safety, which directly impacts how individuals experience stress. Feelings of insecurity can increase stress.\n",
    "\n",
    "Basic Needs: The fulfillment of fundamental needs like food, shelter, and healthcare, which if unmet, can be a major source of stress.\n",
    "\n",
    "Academic Performance: Pressure from school or university work, where poor academic performance can lead to increased stress and anxiety.\n",
    "\n",
    "Study Load: The volume of academic work assigned. A heavy study load can contribute significantly to stress, especially in students.\n",
    "\n",
    "Teacher-Student Relationship: A supportive or strained relationship with teachers can either mitigate or increase stress levels in academic settings.\n",
    "\n",
    "Future Career Concerns: Anxiety about future job prospects or career opportunities, which can be a significant stressor, especially for students nearing graduation.\n",
    "\n",
    "Social Support: The presence or absence of social support from family, friends, or peers, which can either buffer or amplify stress.\n",
    "\n",
    "Peer Pressure: The influence of peers, which can create additional stress through the need to conform to social norms or expectations.\n",
    "\n",
    "Extracurricular Activities: Participation in non-academic activities. While these can offer a distraction and stress relief, over-involvement can contribute to stress.\n",
    "\n",
    "Bullying: Experiences of bullying, whether at school or work, which are known to significantly increase stress levels.\n",
    "\n",
    "Model Training and Prediction\n",
    "The dataset, likely used in the repository, is fed into a machine learning model (in this case, a Random Forest model) to predict the stress level of an individual based on these features. The model works by learning the relationship between these input features and the stress level (low, mid, or high). The goal is to identify patterns in the data that can predict the stress level accurately, which can be helpful for designing interventions or providing support.\n",
    "\n",
    "Low Stress: Individuals who score low on the input variables (such as anxiety, depression, etc.) would be predicted to have low stress.\n",
    "Mid Stress: If the data indicates moderate anxiety, some academic pressure, or environmental stressors, the model would predict a mid-level stress.\n",
    "High Stress: High levels of anxiety, depression, or overwhelming academic and personal pressures would correlate with a prediction of high stress.\n",
    "By analyzing these factors, the repository and its machine learning model can provide insights into the factors that contribute to stress, which could help in developing tools or resources to help people manage their stress levels effectively. The predictive model also demonstrates the power of machine learning in health-related fields, where data-driven insights can improve well-being.\n",
    "\n",
    "The repository contains important resources:\n",
    "\n",
    "Trained Model: The machine learning model that has been trained on the data.\n",
    "Scaler: A preprocessing tool used to scale the input data so that it can be fed into the model accurately.\n",
    "Data: The dataset of features that was used to train the model.\n",
    "In conclusion, the data and model on GitHub aim to create a useful tool to predict stress levels and offer insights into the key contributors of stress.\n",
    "\n"
   ]
  },
  {
   "cell_type": "code",
   "execution_count": 1,
   "id": "4a4ff75f",
   "metadata": {},
   "outputs": [],
   "source": [
    "import numpy as np \n",
    "import pandas as pd "
   ]
  },
  {
   "cell_type": "code",
   "execution_count": 8,
   "id": "e678ae9e",
   "metadata": {},
   "outputs": [],
   "source": [
    "import matplotlib.pyplot as plt\n",
    "import seaborn as sns"
   ]
  },
  {
   "cell_type": "code",
   "execution_count": 9,
   "id": "2d04690f",
   "metadata": {},
   "outputs": [],
   "source": [
    "data = pd.read_csv(\"../Dataset/Stress-Level.csv\")\n"
   ]
  },
  {
   "cell_type": "code",
   "execution_count": 10,
   "id": "15009022",
   "metadata": {},
   "outputs": [
    {
     "data": {
      "text/html": [
       "<div>\n",
       "<style scoped>\n",
       "    .dataframe tbody tr th:only-of-type {\n",
       "        vertical-align: middle;\n",
       "    }\n",
       "\n",
       "    .dataframe tbody tr th {\n",
       "        vertical-align: top;\n",
       "    }\n",
       "\n",
       "    .dataframe thead th {\n",
       "        text-align: right;\n",
       "    }\n",
       "</style>\n",
       "<table border=\"1\" class=\"dataframe\">\n",
       "  <thead>\n",
       "    <tr style=\"text-align: right;\">\n",
       "      <th></th>\n",
       "      <th>anxiety_level</th>\n",
       "      <th>self_esteem</th>\n",
       "      <th>mental_health_history</th>\n",
       "      <th>depression</th>\n",
       "      <th>headache</th>\n",
       "      <th>blood_pressure</th>\n",
       "      <th>sleep_quality</th>\n",
       "      <th>breathing_problem</th>\n",
       "      <th>noise_level</th>\n",
       "      <th>living_conditions</th>\n",
       "      <th>...</th>\n",
       "      <th>basic_needs</th>\n",
       "      <th>academic_performance</th>\n",
       "      <th>study_load</th>\n",
       "      <th>teacher_student_relationship</th>\n",
       "      <th>future_career_concerns</th>\n",
       "      <th>social_support</th>\n",
       "      <th>peer_pressure</th>\n",
       "      <th>extracurricular_activities</th>\n",
       "      <th>bullying</th>\n",
       "      <th>stress_level</th>\n",
       "    </tr>\n",
       "  </thead>\n",
       "  <tbody>\n",
       "    <tr>\n",
       "      <th>0</th>\n",
       "      <td>14</td>\n",
       "      <td>20</td>\n",
       "      <td>0</td>\n",
       "      <td>11</td>\n",
       "      <td>2</td>\n",
       "      <td>1</td>\n",
       "      <td>2</td>\n",
       "      <td>4</td>\n",
       "      <td>2</td>\n",
       "      <td>3</td>\n",
       "      <td>...</td>\n",
       "      <td>2</td>\n",
       "      <td>3</td>\n",
       "      <td>2</td>\n",
       "      <td>3</td>\n",
       "      <td>3</td>\n",
       "      <td>2</td>\n",
       "      <td>3</td>\n",
       "      <td>3</td>\n",
       "      <td>2</td>\n",
       "      <td>1</td>\n",
       "    </tr>\n",
       "    <tr>\n",
       "      <th>1</th>\n",
       "      <td>15</td>\n",
       "      <td>8</td>\n",
       "      <td>1</td>\n",
       "      <td>15</td>\n",
       "      <td>5</td>\n",
       "      <td>3</td>\n",
       "      <td>1</td>\n",
       "      <td>4</td>\n",
       "      <td>3</td>\n",
       "      <td>1</td>\n",
       "      <td>...</td>\n",
       "      <td>2</td>\n",
       "      <td>1</td>\n",
       "      <td>4</td>\n",
       "      <td>1</td>\n",
       "      <td>5</td>\n",
       "      <td>1</td>\n",
       "      <td>4</td>\n",
       "      <td>5</td>\n",
       "      <td>5</td>\n",
       "      <td>2</td>\n",
       "    </tr>\n",
       "    <tr>\n",
       "      <th>2</th>\n",
       "      <td>12</td>\n",
       "      <td>18</td>\n",
       "      <td>1</td>\n",
       "      <td>14</td>\n",
       "      <td>2</td>\n",
       "      <td>1</td>\n",
       "      <td>2</td>\n",
       "      <td>2</td>\n",
       "      <td>2</td>\n",
       "      <td>2</td>\n",
       "      <td>...</td>\n",
       "      <td>2</td>\n",
       "      <td>2</td>\n",
       "      <td>3</td>\n",
       "      <td>3</td>\n",
       "      <td>2</td>\n",
       "      <td>2</td>\n",
       "      <td>3</td>\n",
       "      <td>2</td>\n",
       "      <td>2</td>\n",
       "      <td>1</td>\n",
       "    </tr>\n",
       "    <tr>\n",
       "      <th>3</th>\n",
       "      <td>16</td>\n",
       "      <td>12</td>\n",
       "      <td>1</td>\n",
       "      <td>15</td>\n",
       "      <td>4</td>\n",
       "      <td>3</td>\n",
       "      <td>1</td>\n",
       "      <td>3</td>\n",
       "      <td>4</td>\n",
       "      <td>2</td>\n",
       "      <td>...</td>\n",
       "      <td>2</td>\n",
       "      <td>2</td>\n",
       "      <td>4</td>\n",
       "      <td>1</td>\n",
       "      <td>4</td>\n",
       "      <td>1</td>\n",
       "      <td>4</td>\n",
       "      <td>4</td>\n",
       "      <td>5</td>\n",
       "      <td>2</td>\n",
       "    </tr>\n",
       "    <tr>\n",
       "      <th>4</th>\n",
       "      <td>16</td>\n",
       "      <td>28</td>\n",
       "      <td>0</td>\n",
       "      <td>7</td>\n",
       "      <td>2</td>\n",
       "      <td>3</td>\n",
       "      <td>5</td>\n",
       "      <td>1</td>\n",
       "      <td>3</td>\n",
       "      <td>2</td>\n",
       "      <td>...</td>\n",
       "      <td>3</td>\n",
       "      <td>4</td>\n",
       "      <td>3</td>\n",
       "      <td>1</td>\n",
       "      <td>2</td>\n",
       "      <td>1</td>\n",
       "      <td>5</td>\n",
       "      <td>0</td>\n",
       "      <td>5</td>\n",
       "      <td>1</td>\n",
       "    </tr>\n",
       "  </tbody>\n",
       "</table>\n",
       "<p>5 rows × 21 columns</p>\n",
       "</div>"
      ],
      "text/plain": [
       "   anxiety_level  self_esteem  mental_health_history  depression  headache  \\\n",
       "0             14           20                      0          11         2   \n",
       "1             15            8                      1          15         5   \n",
       "2             12           18                      1          14         2   \n",
       "3             16           12                      1          15         4   \n",
       "4             16           28                      0           7         2   \n",
       "\n",
       "   blood_pressure  sleep_quality  breathing_problem  noise_level  \\\n",
       "0               1              2                  4            2   \n",
       "1               3              1                  4            3   \n",
       "2               1              2                  2            2   \n",
       "3               3              1                  3            4   \n",
       "4               3              5                  1            3   \n",
       "\n",
       "   living_conditions  ...  basic_needs  academic_performance  study_load  \\\n",
       "0                  3  ...            2                     3           2   \n",
       "1                  1  ...            2                     1           4   \n",
       "2                  2  ...            2                     2           3   \n",
       "3                  2  ...            2                     2           4   \n",
       "4                  2  ...            3                     4           3   \n",
       "\n",
       "   teacher_student_relationship  future_career_concerns  social_support  \\\n",
       "0                             3                       3               2   \n",
       "1                             1                       5               1   \n",
       "2                             3                       2               2   \n",
       "3                             1                       4               1   \n",
       "4                             1                       2               1   \n",
       "\n",
       "   peer_pressure  extracurricular_activities  bullying  stress_level  \n",
       "0              3                           3         2             1  \n",
       "1              4                           5         5             2  \n",
       "2              3                           2         2             1  \n",
       "3              4                           4         5             2  \n",
       "4              5                           0         5             1  \n",
       "\n",
       "[5 rows x 21 columns]"
      ]
     },
     "execution_count": 10,
     "metadata": {},
     "output_type": "execute_result"
    }
   ],
   "source": [
    "data.head()"
   ]
  },
  {
   "cell_type": "code",
   "execution_count": 11,
   "id": "cc92c98b",
   "metadata": {},
   "outputs": [
    {
     "data": {
      "text/plain": [
       "(1100, 21)"
      ]
     },
     "execution_count": 11,
     "metadata": {},
     "output_type": "execute_result"
    }
   ],
   "source": [
    "data.shape"
   ]
  },
  {
   "cell_type": "code",
   "execution_count": 12,
   "id": "f9ea63aa",
   "metadata": {
    "scrolled": true
   },
   "outputs": [
    {
     "data": {
      "text/plain": [
       "Index(['anxiety_level', 'self_esteem', 'mental_health_history', 'depression',\n",
       "       'headache', 'blood_pressure', 'sleep_quality', 'breathing_problem',\n",
       "       'noise_level', 'living_conditions', 'safety', 'basic_needs',\n",
       "       'academic_performance', 'study_load', 'teacher_student_relationship',\n",
       "       'future_career_concerns', 'social_support', 'peer_pressure',\n",
       "       'extracurricular_activities', 'bullying', 'stress_level'],\n",
       "      dtype='object')"
      ]
     },
     "execution_count": 12,
     "metadata": {},
     "output_type": "execute_result"
    }
   ],
   "source": [
    "data.columns"
   ]
  },
  {
   "cell_type": "raw",
   "id": "aa1c6502",
   "metadata": {},
   "source": [
    "Quick explonation from the person who uploaded the dataset:\n",
    "\n",
    "-Anxiety : range from 0 to 21, Measure : GAD-7\n",
    "-Self-esteem : range 0 to 30, Measure: Rosenberg Self Esteem Scale\n",
    "-Mental Health History : 0 if no mental health history, 1 if mental health history\n",
    "-Depression : range 0 to 27, Measure: Patient Health Questionnaire (PHQ-9)\n",
    "-Other features mostly range from 0 to 5 considering 0,1 to be low, 2,3 to be mid, and 4,5 to be high.\n",
    "-Blood pressure: range 1 to 3 (*There was no direct explanation for this one, I assume 1 is low, 2 is normal, 3 is high)\n",
    "-Stress level: range 0 to 2 (*Again no explanation, I assume, 0 low level/absent, 1 medium level, 2 high level)\n",
    "*Generally lower score is better, but for others it is hard to decide. For example sleep quality, we can have an educated guess if we do some data analysis.\n",
    "(The text with an * is added by me)"
   ]
  },
  {
   "cell_type": "code",
   "execution_count": 13,
   "id": "d8c43e5b",
   "metadata": {},
   "outputs": [
    {
     "name": "stdout",
     "output_type": "stream",
     "text": [
      "<class 'pandas.core.frame.DataFrame'>\n",
      "RangeIndex: 1100 entries, 0 to 1099\n",
      "Data columns (total 21 columns):\n",
      " #   Column                        Non-Null Count  Dtype\n",
      "---  ------                        --------------  -----\n",
      " 0   anxiety_level                 1100 non-null   int64\n",
      " 1   self_esteem                   1100 non-null   int64\n",
      " 2   mental_health_history         1100 non-null   int64\n",
      " 3   depression                    1100 non-null   int64\n",
      " 4   headache                      1100 non-null   int64\n",
      " 5   blood_pressure                1100 non-null   int64\n",
      " 6   sleep_quality                 1100 non-null   int64\n",
      " 7   breathing_problem             1100 non-null   int64\n",
      " 8   noise_level                   1100 non-null   int64\n",
      " 9   living_conditions             1100 non-null   int64\n",
      " 10  safety                        1100 non-null   int64\n",
      " 11  basic_needs                   1100 non-null   int64\n",
      " 12  academic_performance          1100 non-null   int64\n",
      " 13  study_load                    1100 non-null   int64\n",
      " 14  teacher_student_relationship  1100 non-null   int64\n",
      " 15  future_career_concerns        1100 non-null   int64\n",
      " 16  social_support                1100 non-null   int64\n",
      " 17  peer_pressure                 1100 non-null   int64\n",
      " 18  extracurricular_activities    1100 non-null   int64\n",
      " 19  bullying                      1100 non-null   int64\n",
      " 20  stress_level                  1100 non-null   int64\n",
      "dtypes: int64(21)\n",
      "memory usage: 180.6 KB\n"
     ]
    }
   ],
   "source": [
    "data.info()"
   ]
  },
  {
   "cell_type": "code",
   "execution_count": 14,
   "id": "f701a550",
   "metadata": {},
   "outputs": [
    {
     "data": {
      "text/html": [
       "<div>\n",
       "<style scoped>\n",
       "    .dataframe tbody tr th:only-of-type {\n",
       "        vertical-align: middle;\n",
       "    }\n",
       "\n",
       "    .dataframe tbody tr th {\n",
       "        vertical-align: top;\n",
       "    }\n",
       "\n",
       "    .dataframe thead th {\n",
       "        text-align: right;\n",
       "    }\n",
       "</style>\n",
       "<table border=\"1\" class=\"dataframe\">\n",
       "  <thead>\n",
       "    <tr style=\"text-align: right;\">\n",
       "      <th></th>\n",
       "      <th>anxiety_level</th>\n",
       "      <th>self_esteem</th>\n",
       "      <th>mental_health_history</th>\n",
       "      <th>depression</th>\n",
       "      <th>headache</th>\n",
       "      <th>blood_pressure</th>\n",
       "      <th>sleep_quality</th>\n",
       "      <th>breathing_problem</th>\n",
       "      <th>noise_level</th>\n",
       "      <th>living_conditions</th>\n",
       "      <th>safety</th>\n",
       "      <th>basic_needs</th>\n",
       "      <th>academic_performance</th>\n",
       "      <th>study_load</th>\n",
       "      <th>teacher_student_relationship</th>\n",
       "      <th>future_career_concerns</th>\n",
       "      <th>social_support</th>\n",
       "      <th>peer_pressure</th>\n",
       "      <th>extracurricular_activities</th>\n",
       "      <th>bullying</th>\n",
       "      <th>stress_level</th>\n",
       "    </tr>\n",
       "  </thead>\n",
       "  <tbody>\n",
       "    <tr>\n",
       "      <th>count</th>\n",
       "      <td>1100.000000</td>\n",
       "      <td>1100.000000</td>\n",
       "      <td>1100.000000</td>\n",
       "      <td>1100.000000</td>\n",
       "      <td>1100.000000</td>\n",
       "      <td>1100.000000</td>\n",
       "      <td>1100.000000</td>\n",
       "      <td>1100.000000</td>\n",
       "      <td>1100.000000</td>\n",
       "      <td>1100.000000</td>\n",
       "      <td>1100.000000</td>\n",
       "      <td>1100.000000</td>\n",
       "      <td>1100.000000</td>\n",
       "      <td>1100.000000</td>\n",
       "      <td>1100.000000</td>\n",
       "      <td>1100.000000</td>\n",
       "      <td>1100.000000</td>\n",
       "      <td>1100.000000</td>\n",
       "      <td>1100.000000</td>\n",
       "      <td>1100.000000</td>\n",
       "      <td>1100.000000</td>\n",
       "    </tr>\n",
       "    <tr>\n",
       "      <th>mean</th>\n",
       "      <td>11.063636</td>\n",
       "      <td>17.777273</td>\n",
       "      <td>0.492727</td>\n",
       "      <td>12.555455</td>\n",
       "      <td>2.508182</td>\n",
       "      <td>2.181818</td>\n",
       "      <td>2.660000</td>\n",
       "      <td>2.753636</td>\n",
       "      <td>2.649091</td>\n",
       "      <td>2.518182</td>\n",
       "      <td>2.737273</td>\n",
       "      <td>2.772727</td>\n",
       "      <td>2.772727</td>\n",
       "      <td>2.621818</td>\n",
       "      <td>2.648182</td>\n",
       "      <td>2.649091</td>\n",
       "      <td>1.881818</td>\n",
       "      <td>2.734545</td>\n",
       "      <td>2.767273</td>\n",
       "      <td>2.617273</td>\n",
       "      <td>0.996364</td>\n",
       "    </tr>\n",
       "    <tr>\n",
       "      <th>std</th>\n",
       "      <td>6.117558</td>\n",
       "      <td>8.944599</td>\n",
       "      <td>0.500175</td>\n",
       "      <td>7.727008</td>\n",
       "      <td>1.409356</td>\n",
       "      <td>0.833575</td>\n",
       "      <td>1.548383</td>\n",
       "      <td>1.400713</td>\n",
       "      <td>1.328127</td>\n",
       "      <td>1.119208</td>\n",
       "      <td>1.406171</td>\n",
       "      <td>1.433761</td>\n",
       "      <td>1.414594</td>\n",
       "      <td>1.315781</td>\n",
       "      <td>1.384579</td>\n",
       "      <td>1.529375</td>\n",
       "      <td>1.047826</td>\n",
       "      <td>1.425265</td>\n",
       "      <td>1.417562</td>\n",
       "      <td>1.530958</td>\n",
       "      <td>0.821673</td>\n",
       "    </tr>\n",
       "    <tr>\n",
       "      <th>min</th>\n",
       "      <td>0.000000</td>\n",
       "      <td>0.000000</td>\n",
       "      <td>0.000000</td>\n",
       "      <td>0.000000</td>\n",
       "      <td>0.000000</td>\n",
       "      <td>1.000000</td>\n",
       "      <td>0.000000</td>\n",
       "      <td>0.000000</td>\n",
       "      <td>0.000000</td>\n",
       "      <td>0.000000</td>\n",
       "      <td>0.000000</td>\n",
       "      <td>0.000000</td>\n",
       "      <td>0.000000</td>\n",
       "      <td>0.000000</td>\n",
       "      <td>0.000000</td>\n",
       "      <td>0.000000</td>\n",
       "      <td>0.000000</td>\n",
       "      <td>0.000000</td>\n",
       "      <td>0.000000</td>\n",
       "      <td>0.000000</td>\n",
       "      <td>0.000000</td>\n",
       "    </tr>\n",
       "    <tr>\n",
       "      <th>25%</th>\n",
       "      <td>6.000000</td>\n",
       "      <td>11.000000</td>\n",
       "      <td>0.000000</td>\n",
       "      <td>6.000000</td>\n",
       "      <td>1.000000</td>\n",
       "      <td>1.000000</td>\n",
       "      <td>1.000000</td>\n",
       "      <td>2.000000</td>\n",
       "      <td>2.000000</td>\n",
       "      <td>2.000000</td>\n",
       "      <td>2.000000</td>\n",
       "      <td>2.000000</td>\n",
       "      <td>2.000000</td>\n",
       "      <td>2.000000</td>\n",
       "      <td>2.000000</td>\n",
       "      <td>1.000000</td>\n",
       "      <td>1.000000</td>\n",
       "      <td>2.000000</td>\n",
       "      <td>2.000000</td>\n",
       "      <td>1.000000</td>\n",
       "      <td>0.000000</td>\n",
       "    </tr>\n",
       "    <tr>\n",
       "      <th>50%</th>\n",
       "      <td>11.000000</td>\n",
       "      <td>19.000000</td>\n",
       "      <td>0.000000</td>\n",
       "      <td>12.000000</td>\n",
       "      <td>3.000000</td>\n",
       "      <td>2.000000</td>\n",
       "      <td>2.500000</td>\n",
       "      <td>3.000000</td>\n",
       "      <td>3.000000</td>\n",
       "      <td>2.000000</td>\n",
       "      <td>2.000000</td>\n",
       "      <td>3.000000</td>\n",
       "      <td>2.000000</td>\n",
       "      <td>2.000000</td>\n",
       "      <td>2.000000</td>\n",
       "      <td>2.000000</td>\n",
       "      <td>2.000000</td>\n",
       "      <td>2.000000</td>\n",
       "      <td>2.500000</td>\n",
       "      <td>3.000000</td>\n",
       "      <td>1.000000</td>\n",
       "    </tr>\n",
       "    <tr>\n",
       "      <th>75%</th>\n",
       "      <td>16.000000</td>\n",
       "      <td>26.000000</td>\n",
       "      <td>1.000000</td>\n",
       "      <td>19.000000</td>\n",
       "      <td>3.000000</td>\n",
       "      <td>3.000000</td>\n",
       "      <td>4.000000</td>\n",
       "      <td>4.000000</td>\n",
       "      <td>3.000000</td>\n",
       "      <td>3.000000</td>\n",
       "      <td>4.000000</td>\n",
       "      <td>4.000000</td>\n",
       "      <td>4.000000</td>\n",
       "      <td>3.000000</td>\n",
       "      <td>4.000000</td>\n",
       "      <td>4.000000</td>\n",
       "      <td>3.000000</td>\n",
       "      <td>4.000000</td>\n",
       "      <td>4.000000</td>\n",
       "      <td>4.000000</td>\n",
       "      <td>2.000000</td>\n",
       "    </tr>\n",
       "    <tr>\n",
       "      <th>max</th>\n",
       "      <td>21.000000</td>\n",
       "      <td>30.000000</td>\n",
       "      <td>1.000000</td>\n",
       "      <td>27.000000</td>\n",
       "      <td>5.000000</td>\n",
       "      <td>3.000000</td>\n",
       "      <td>5.000000</td>\n",
       "      <td>5.000000</td>\n",
       "      <td>5.000000</td>\n",
       "      <td>5.000000</td>\n",
       "      <td>5.000000</td>\n",
       "      <td>5.000000</td>\n",
       "      <td>5.000000</td>\n",
       "      <td>5.000000</td>\n",
       "      <td>5.000000</td>\n",
       "      <td>5.000000</td>\n",
       "      <td>3.000000</td>\n",
       "      <td>5.000000</td>\n",
       "      <td>5.000000</td>\n",
       "      <td>5.000000</td>\n",
       "      <td>2.000000</td>\n",
       "    </tr>\n",
       "  </tbody>\n",
       "</table>\n",
       "</div>"
      ],
      "text/plain": [
       "       anxiety_level  self_esteem  mental_health_history   depression  \\\n",
       "count    1100.000000  1100.000000            1100.000000  1100.000000   \n",
       "mean       11.063636    17.777273               0.492727    12.555455   \n",
       "std         6.117558     8.944599               0.500175     7.727008   \n",
       "min         0.000000     0.000000               0.000000     0.000000   \n",
       "25%         6.000000    11.000000               0.000000     6.000000   \n",
       "50%        11.000000    19.000000               0.000000    12.000000   \n",
       "75%        16.000000    26.000000               1.000000    19.000000   \n",
       "max        21.000000    30.000000               1.000000    27.000000   \n",
       "\n",
       "          headache  blood_pressure  sleep_quality  breathing_problem  \\\n",
       "count  1100.000000     1100.000000    1100.000000        1100.000000   \n",
       "mean      2.508182        2.181818       2.660000           2.753636   \n",
       "std       1.409356        0.833575       1.548383           1.400713   \n",
       "min       0.000000        1.000000       0.000000           0.000000   \n",
       "25%       1.000000        1.000000       1.000000           2.000000   \n",
       "50%       3.000000        2.000000       2.500000           3.000000   \n",
       "75%       3.000000        3.000000       4.000000           4.000000   \n",
       "max       5.000000        3.000000       5.000000           5.000000   \n",
       "\n",
       "       noise_level  living_conditions       safety  basic_needs  \\\n",
       "count  1100.000000        1100.000000  1100.000000  1100.000000   \n",
       "mean      2.649091           2.518182     2.737273     2.772727   \n",
       "std       1.328127           1.119208     1.406171     1.433761   \n",
       "min       0.000000           0.000000     0.000000     0.000000   \n",
       "25%       2.000000           2.000000     2.000000     2.000000   \n",
       "50%       3.000000           2.000000     2.000000     3.000000   \n",
       "75%       3.000000           3.000000     4.000000     4.000000   \n",
       "max       5.000000           5.000000     5.000000     5.000000   \n",
       "\n",
       "       academic_performance   study_load  teacher_student_relationship  \\\n",
       "count           1100.000000  1100.000000                   1100.000000   \n",
       "mean               2.772727     2.621818                      2.648182   \n",
       "std                1.414594     1.315781                      1.384579   \n",
       "min                0.000000     0.000000                      0.000000   \n",
       "25%                2.000000     2.000000                      2.000000   \n",
       "50%                2.000000     2.000000                      2.000000   \n",
       "75%                4.000000     3.000000                      4.000000   \n",
       "max                5.000000     5.000000                      5.000000   \n",
       "\n",
       "       future_career_concerns  social_support  peer_pressure  \\\n",
       "count             1100.000000     1100.000000    1100.000000   \n",
       "mean                 2.649091        1.881818       2.734545   \n",
       "std                  1.529375        1.047826       1.425265   \n",
       "min                  0.000000        0.000000       0.000000   \n",
       "25%                  1.000000        1.000000       2.000000   \n",
       "50%                  2.000000        2.000000       2.000000   \n",
       "75%                  4.000000        3.000000       4.000000   \n",
       "max                  5.000000        3.000000       5.000000   \n",
       "\n",
       "       extracurricular_activities     bullying  stress_level  \n",
       "count                 1100.000000  1100.000000   1100.000000  \n",
       "mean                     2.767273     2.617273      0.996364  \n",
       "std                      1.417562     1.530958      0.821673  \n",
       "min                      0.000000     0.000000      0.000000  \n",
       "25%                      2.000000     1.000000      0.000000  \n",
       "50%                      2.500000     3.000000      1.000000  \n",
       "75%                      4.000000     4.000000      2.000000  \n",
       "max                      5.000000     5.000000      2.000000  "
      ]
     },
     "execution_count": 14,
     "metadata": {},
     "output_type": "execute_result"
    }
   ],
   "source": [
    "#Have a fast look on the dataset, also modify the maximum shown columns\n",
    "pd.set_option('display.max_columns', None)\n",
    "data.describe()"
   ]
  },
  {
   "cell_type": "markdown",
   "id": "a4c75f2e",
   "metadata": {},
   "source": [
    "# DESCRIPTIVE ANALYSIS"
   ]
  },
  {
   "cell_type": "code",
   "execution_count": 15,
   "id": "fa34ccb8",
   "metadata": {},
   "outputs": [
    {
     "name": "stdout",
     "output_type": "stream",
     "text": [
      "there are  1100 students in the data \n",
      "The avarage anxiety level is: 11.06\n",
      "542 students reported a history of mental health issues.\n"
     ]
    }
   ],
   "source": [
    "print(\"there are \",len(data), \"students in the data \")\n",
    "print(\"The avarage anxiety level is:\", round(data.anxiety_level.mean(),2))\n",
    "print(len(data.loc[data.mental_health_history == 1]), \"students reported a history of mental health issues.\")"
   ]
  },
  {
   "cell_type": "raw",
   "id": "567ef7b7",
   "metadata": {},
   "source": [
    "PSYCHOLOGICAL FACTORS\n",
    "A bit of explanation to depression levels (PHQ-9):\n",
    "\n",
    "1-4 suggests minimal depression\n",
    "5-9 suggests mild depression\n",
    "10-14 suggests moderate depression\n",
    "15-19 suggests moderately severe depression\n",
    "A score of 20-27 suggests severe depression\n",
    "Based on this nearly every student had to experience some level of depression, I counted the ones with moderate or higher."
   ]
  },
  {
   "cell_type": "code",
   "execution_count": 17,
   "id": "c3d5dc42",
   "metadata": {},
   "outputs": [
    {
     "data": {
      "text/plain": [
       "507"
      ]
     },
     "execution_count": 17,
     "metadata": {},
     "output_type": "execute_result"
    }
   ],
   "source": [
    "len(data.loc[data[\"self_esteem\"]<data[\"self_esteem\"].mean()])"
   ]
  },
  {
   "cell_type": "code",
   "execution_count": 18,
   "id": "233544b3",
   "metadata": {},
   "outputs": [],
   "source": [
    "#less self esteemed students are 507"
   ]
  },
  {
   "cell_type": "code",
   "execution_count": 93,
   "id": "492476a0",
   "metadata": {},
   "outputs": [
    {
     "data": {
      "text/plain": [
       "depression\n",
       "True     0.623636\n",
       "False    0.376364\n",
       "Name: proportion, dtype: float64"
      ]
     },
     "execution_count": 93,
     "metadata": {},
     "output_type": "execute_result"
    }
   ],
   "source": [
    "(data[\"depression\"]>=10).value_counts(normalize=True)"
   ]
  },
  {
   "cell_type": "code",
   "execution_count": 94,
   "id": "43873eed",
   "metadata": {},
   "outputs": [],
   "source": [
    "#62% have moderate-severe depression"
   ]
  },
  {
   "cell_type": "markdown",
   "id": "519d8e4e",
   "metadata": {},
   "source": [
    "Are these findings real for self esteem? On a normal scale a higher level os self esteem is better. In this dataset it is not so clear. Will do a correlation between stress level and all other variables, positive values would mean higher is worse, negative correlation would mean lower is worse."
   ]
  },
  {
   "cell_type": "code",
   "execution_count": 19,
   "id": "077445fd",
   "metadata": {},
   "outputs": [
    {
     "data": {
      "text/html": [
       "<div>\n",
       "<style scoped>\n",
       "    .dataframe tbody tr th:only-of-type {\n",
       "        vertical-align: middle;\n",
       "    }\n",
       "\n",
       "    .dataframe tbody tr th {\n",
       "        vertical-align: top;\n",
       "    }\n",
       "\n",
       "    .dataframe thead th {\n",
       "        text-align: right;\n",
       "    }\n",
       "</style>\n",
       "<table border=\"1\" class=\"dataframe\">\n",
       "  <thead>\n",
       "    <tr style=\"text-align: right;\">\n",
       "      <th></th>\n",
       "      <th>anxiety_level</th>\n",
       "      <th>self_esteem</th>\n",
       "      <th>mental_health_history</th>\n",
       "      <th>depression</th>\n",
       "      <th>headache</th>\n",
       "      <th>blood_pressure</th>\n",
       "      <th>sleep_quality</th>\n",
       "      <th>breathing_problem</th>\n",
       "      <th>noise_level</th>\n",
       "      <th>living_conditions</th>\n",
       "      <th>safety</th>\n",
       "      <th>basic_needs</th>\n",
       "      <th>academic_performance</th>\n",
       "      <th>study_load</th>\n",
       "      <th>teacher_student_relationship</th>\n",
       "      <th>future_career_concerns</th>\n",
       "      <th>social_support</th>\n",
       "      <th>peer_pressure</th>\n",
       "      <th>extracurricular_activities</th>\n",
       "      <th>bullying</th>\n",
       "      <th>stress_level</th>\n",
       "    </tr>\n",
       "  </thead>\n",
       "  <tbody>\n",
       "    <tr>\n",
       "      <th>anxiety_level</th>\n",
       "      <td>1.000000</td>\n",
       "      <td>-0.672745</td>\n",
       "      <td>0.634450</td>\n",
       "      <td>0.694340</td>\n",
       "      <td>0.632738</td>\n",
       "      <td>0.330867</td>\n",
       "      <td>-0.710292</td>\n",
       "      <td>0.561654</td>\n",
       "      <td>0.608624</td>\n",
       "      <td>-0.568434</td>\n",
       "      <td>-0.651220</td>\n",
       "      <td>-0.637079</td>\n",
       "      <td>-0.649601</td>\n",
       "      <td>0.586064</td>\n",
       "      <td>-0.663176</td>\n",
       "      <td>0.717016</td>\n",
       "      <td>-0.569748</td>\n",
       "      <td>0.642910</td>\n",
       "      <td>0.641022</td>\n",
       "      <td>0.709982</td>\n",
       "      <td>0.736795</td>\n",
       "    </tr>\n",
       "    <tr>\n",
       "      <th>self_esteem</th>\n",
       "      <td>-0.672745</td>\n",
       "      <td>1.000000</td>\n",
       "      <td>-0.603502</td>\n",
       "      <td>-0.699602</td>\n",
       "      <td>-0.626058</td>\n",
       "      <td>-0.514692</td>\n",
       "      <td>0.662693</td>\n",
       "      <td>-0.510514</td>\n",
       "      <td>-0.571169</td>\n",
       "      <td>0.550535</td>\n",
       "      <td>0.643981</td>\n",
       "      <td>0.631212</td>\n",
       "      <td>0.639045</td>\n",
       "      <td>-0.575112</td>\n",
       "      <td>0.652934</td>\n",
       "      <td>-0.712520</td>\n",
       "      <td>0.679211</td>\n",
       "      <td>-0.607118</td>\n",
       "      <td>-0.641202</td>\n",
       "      <td>-0.640737</td>\n",
       "      <td>-0.756195</td>\n",
       "    </tr>\n",
       "    <tr>\n",
       "      <th>mental_health_history</th>\n",
       "      <td>0.634450</td>\n",
       "      <td>-0.603502</td>\n",
       "      <td>1.000000</td>\n",
       "      <td>0.615882</td>\n",
       "      <td>0.604826</td>\n",
       "      <td>0.295617</td>\n",
       "      <td>-0.614146</td>\n",
       "      <td>0.464347</td>\n",
       "      <td>0.515290</td>\n",
       "      <td>-0.508525</td>\n",
       "      <td>-0.546731</td>\n",
       "      <td>-0.601196</td>\n",
       "      <td>-0.586193</td>\n",
       "      <td>0.532267</td>\n",
       "      <td>-0.587728</td>\n",
       "      <td>0.625909</td>\n",
       "      <td>-0.482560</td>\n",
       "      <td>0.580602</td>\n",
       "      <td>0.554576</td>\n",
       "      <td>0.624366</td>\n",
       "      <td>0.648644</td>\n",
       "    </tr>\n",
       "    <tr>\n",
       "      <th>depression</th>\n",
       "      <td>0.694340</td>\n",
       "      <td>-0.699602</td>\n",
       "      <td>0.615882</td>\n",
       "      <td>1.000000</td>\n",
       "      <td>0.657700</td>\n",
       "      <td>0.436084</td>\n",
       "      <td>-0.693161</td>\n",
       "      <td>0.522540</td>\n",
       "      <td>0.566250</td>\n",
       "      <td>-0.530351</td>\n",
       "      <td>-0.625857</td>\n",
       "      <td>-0.608776</td>\n",
       "      <td>-0.633174</td>\n",
       "      <td>0.602498</td>\n",
       "      <td>-0.673853</td>\n",
       "      <td>0.706561</td>\n",
       "      <td>-0.617972</td>\n",
       "      <td>0.635544</td>\n",
       "      <td>0.648551</td>\n",
       "      <td>0.665790</td>\n",
       "      <td>0.734379</td>\n",
       "    </tr>\n",
       "    <tr>\n",
       "      <th>headache</th>\n",
       "      <td>0.632738</td>\n",
       "      <td>-0.626058</td>\n",
       "      <td>0.604826</td>\n",
       "      <td>0.657700</td>\n",
       "      <td>1.000000</td>\n",
       "      <td>0.361986</td>\n",
       "      <td>-0.638771</td>\n",
       "      <td>0.461719</td>\n",
       "      <td>0.543557</td>\n",
       "      <td>-0.532825</td>\n",
       "      <td>-0.589136</td>\n",
       "      <td>-0.623199</td>\n",
       "      <td>-0.622059</td>\n",
       "      <td>0.542890</td>\n",
       "      <td>-0.625928</td>\n",
       "      <td>0.679307</td>\n",
       "      <td>-0.572988</td>\n",
       "      <td>0.622581</td>\n",
       "      <td>0.582562</td>\n",
       "      <td>0.609775</td>\n",
       "      <td>0.713484</td>\n",
       "    </tr>\n",
       "    <tr>\n",
       "      <th>blood_pressure</th>\n",
       "      <td>0.330867</td>\n",
       "      <td>-0.514692</td>\n",
       "      <td>0.295617</td>\n",
       "      <td>0.436084</td>\n",
       "      <td>0.361986</td>\n",
       "      <td>1.000000</td>\n",
       "      <td>-0.300323</td>\n",
       "      <td>0.162308</td>\n",
       "      <td>0.352744</td>\n",
       "      <td>-0.274686</td>\n",
       "      <td>-0.288354</td>\n",
       "      <td>-0.280590</td>\n",
       "      <td>-0.262785</td>\n",
       "      <td>0.348964</td>\n",
       "      <td>-0.352123</td>\n",
       "      <td>0.434087</td>\n",
       "      <td>-0.752531</td>\n",
       "      <td>0.401392</td>\n",
       "      <td>0.426254</td>\n",
       "      <td>0.370440</td>\n",
       "      <td>0.394200</td>\n",
       "    </tr>\n",
       "    <tr>\n",
       "      <th>sleep_quality</th>\n",
       "      <td>-0.710292</td>\n",
       "      <td>0.662693</td>\n",
       "      <td>-0.614146</td>\n",
       "      <td>-0.693161</td>\n",
       "      <td>-0.638771</td>\n",
       "      <td>-0.300323</td>\n",
       "      <td>1.000000</td>\n",
       "      <td>-0.541687</td>\n",
       "      <td>-0.576645</td>\n",
       "      <td>0.535462</td>\n",
       "      <td>0.657686</td>\n",
       "      <td>0.620955</td>\n",
       "      <td>0.671326</td>\n",
       "      <td>-0.551775</td>\n",
       "      <td>0.677569</td>\n",
       "      <td>-0.682130</td>\n",
       "      <td>0.554553</td>\n",
       "      <td>-0.649098</td>\n",
       "      <td>-0.623092</td>\n",
       "      <td>-0.699427</td>\n",
       "      <td>-0.749068</td>\n",
       "    </tr>\n",
       "    <tr>\n",
       "      <th>breathing_problem</th>\n",
       "      <td>0.561654</td>\n",
       "      <td>-0.510514</td>\n",
       "      <td>0.464347</td>\n",
       "      <td>0.522540</td>\n",
       "      <td>0.461719</td>\n",
       "      <td>0.162308</td>\n",
       "      <td>-0.541687</td>\n",
       "      <td>1.000000</td>\n",
       "      <td>0.459235</td>\n",
       "      <td>-0.448997</td>\n",
       "      <td>-0.519348</td>\n",
       "      <td>-0.508172</td>\n",
       "      <td>-0.507251</td>\n",
       "      <td>0.428791</td>\n",
       "      <td>-0.498895</td>\n",
       "      <td>0.545345</td>\n",
       "      <td>-0.365173</td>\n",
       "      <td>0.492729</td>\n",
       "      <td>0.516884</td>\n",
       "      <td>0.576341</td>\n",
       "      <td>0.573984</td>\n",
       "    </tr>\n",
       "    <tr>\n",
       "      <th>noise_level</th>\n",
       "      <td>0.608624</td>\n",
       "      <td>-0.571169</td>\n",
       "      <td>0.515290</td>\n",
       "      <td>0.566250</td>\n",
       "      <td>0.543557</td>\n",
       "      <td>0.352744</td>\n",
       "      <td>-0.576645</td>\n",
       "      <td>0.459235</td>\n",
       "      <td>1.000000</td>\n",
       "      <td>-0.452362</td>\n",
       "      <td>-0.536630</td>\n",
       "      <td>-0.572327</td>\n",
       "      <td>-0.513730</td>\n",
       "      <td>0.493625</td>\n",
       "      <td>-0.538758</td>\n",
       "      <td>0.575439</td>\n",
       "      <td>-0.492094</td>\n",
       "      <td>0.583817</td>\n",
       "      <td>0.563614</td>\n",
       "      <td>0.585458</td>\n",
       "      <td>0.663371</td>\n",
       "    </tr>\n",
       "    <tr>\n",
       "      <th>living_conditions</th>\n",
       "      <td>-0.568434</td>\n",
       "      <td>0.550535</td>\n",
       "      <td>-0.508525</td>\n",
       "      <td>-0.530351</td>\n",
       "      <td>-0.532825</td>\n",
       "      <td>-0.274686</td>\n",
       "      <td>0.535462</td>\n",
       "      <td>-0.448997</td>\n",
       "      <td>-0.452362</td>\n",
       "      <td>1.000000</td>\n",
       "      <td>0.563571</td>\n",
       "      <td>0.503275</td>\n",
       "      <td>0.507221</td>\n",
       "      <td>-0.437732</td>\n",
       "      <td>0.549332</td>\n",
       "      <td>-0.565071</td>\n",
       "      <td>0.466594</td>\n",
       "      <td>-0.501795</td>\n",
       "      <td>-0.515794</td>\n",
       "      <td>-0.551139</td>\n",
       "      <td>-0.581723</td>\n",
       "    </tr>\n",
       "    <tr>\n",
       "      <th>safety</th>\n",
       "      <td>-0.651220</td>\n",
       "      <td>0.643981</td>\n",
       "      <td>-0.546731</td>\n",
       "      <td>-0.625857</td>\n",
       "      <td>-0.589136</td>\n",
       "      <td>-0.288354</td>\n",
       "      <td>0.657686</td>\n",
       "      <td>-0.519348</td>\n",
       "      <td>-0.536630</td>\n",
       "      <td>0.563571</td>\n",
       "      <td>1.000000</td>\n",
       "      <td>0.624774</td>\n",
       "      <td>0.642846</td>\n",
       "      <td>-0.493903</td>\n",
       "      <td>0.663328</td>\n",
       "      <td>-0.658106</td>\n",
       "      <td>0.614988</td>\n",
       "      <td>-0.556945</td>\n",
       "      <td>-0.580304</td>\n",
       "      <td>-0.645673</td>\n",
       "      <td>-0.709602</td>\n",
       "    </tr>\n",
       "    <tr>\n",
       "      <th>basic_needs</th>\n",
       "      <td>-0.637079</td>\n",
       "      <td>0.631212</td>\n",
       "      <td>-0.601196</td>\n",
       "      <td>-0.608776</td>\n",
       "      <td>-0.623199</td>\n",
       "      <td>-0.280590</td>\n",
       "      <td>0.620955</td>\n",
       "      <td>-0.508172</td>\n",
       "      <td>-0.572327</td>\n",
       "      <td>0.503275</td>\n",
       "      <td>0.624774</td>\n",
       "      <td>1.000000</td>\n",
       "      <td>0.639387</td>\n",
       "      <td>-0.513459</td>\n",
       "      <td>0.649519</td>\n",
       "      <td>-0.639348</td>\n",
       "      <td>0.584141</td>\n",
       "      <td>-0.587037</td>\n",
       "      <td>-0.506426</td>\n",
       "      <td>-0.644886</td>\n",
       "      <td>-0.708968</td>\n",
       "    </tr>\n",
       "    <tr>\n",
       "      <th>academic_performance</th>\n",
       "      <td>-0.649601</td>\n",
       "      <td>0.639045</td>\n",
       "      <td>-0.586193</td>\n",
       "      <td>-0.633174</td>\n",
       "      <td>-0.622059</td>\n",
       "      <td>-0.262785</td>\n",
       "      <td>0.671326</td>\n",
       "      <td>-0.507251</td>\n",
       "      <td>-0.513730</td>\n",
       "      <td>0.507221</td>\n",
       "      <td>0.642846</td>\n",
       "      <td>0.639387</td>\n",
       "      <td>1.000000</td>\n",
       "      <td>-0.520417</td>\n",
       "      <td>0.669469</td>\n",
       "      <td>-0.643805</td>\n",
       "      <td>0.567501</td>\n",
       "      <td>-0.562948</td>\n",
       "      <td>-0.588612</td>\n",
       "      <td>-0.666229</td>\n",
       "      <td>-0.720922</td>\n",
       "    </tr>\n",
       "    <tr>\n",
       "      <th>study_load</th>\n",
       "      <td>0.586064</td>\n",
       "      <td>-0.575112</td>\n",
       "      <td>0.532267</td>\n",
       "      <td>0.602498</td>\n",
       "      <td>0.542890</td>\n",
       "      <td>0.348964</td>\n",
       "      <td>-0.551775</td>\n",
       "      <td>0.428791</td>\n",
       "      <td>0.493625</td>\n",
       "      <td>-0.437732</td>\n",
       "      <td>-0.493903</td>\n",
       "      <td>-0.513459</td>\n",
       "      <td>-0.520417</td>\n",
       "      <td>1.000000</td>\n",
       "      <td>-0.514123</td>\n",
       "      <td>0.576078</td>\n",
       "      <td>-0.473312</td>\n",
       "      <td>0.544189</td>\n",
       "      <td>0.543543</td>\n",
       "      <td>0.586669</td>\n",
       "      <td>0.634156</td>\n",
       "    </tr>\n",
       "    <tr>\n",
       "      <th>teacher_student_relationship</th>\n",
       "      <td>-0.663176</td>\n",
       "      <td>0.652934</td>\n",
       "      <td>-0.587728</td>\n",
       "      <td>-0.673853</td>\n",
       "      <td>-0.625928</td>\n",
       "      <td>-0.352123</td>\n",
       "      <td>0.677569</td>\n",
       "      <td>-0.498895</td>\n",
       "      <td>-0.538758</td>\n",
       "      <td>0.549332</td>\n",
       "      <td>0.663328</td>\n",
       "      <td>0.649519</td>\n",
       "      <td>0.669469</td>\n",
       "      <td>-0.514123</td>\n",
       "      <td>1.000000</td>\n",
       "      <td>-0.670255</td>\n",
       "      <td>0.681288</td>\n",
       "      <td>-0.587770</td>\n",
       "      <td>-0.582311</td>\n",
       "      <td>-0.655960</td>\n",
       "      <td>-0.680163</td>\n",
       "    </tr>\n",
       "    <tr>\n",
       "      <th>future_career_concerns</th>\n",
       "      <td>0.717016</td>\n",
       "      <td>-0.712520</td>\n",
       "      <td>0.625909</td>\n",
       "      <td>0.706561</td>\n",
       "      <td>0.679307</td>\n",
       "      <td>0.434087</td>\n",
       "      <td>-0.682130</td>\n",
       "      <td>0.545345</td>\n",
       "      <td>0.575439</td>\n",
       "      <td>-0.565071</td>\n",
       "      <td>-0.658106</td>\n",
       "      <td>-0.639348</td>\n",
       "      <td>-0.643805</td>\n",
       "      <td>0.576078</td>\n",
       "      <td>-0.670255</td>\n",
       "      <td>1.000000</td>\n",
       "      <td>-0.602792</td>\n",
       "      <td>0.666873</td>\n",
       "      <td>0.666565</td>\n",
       "      <td>0.711278</td>\n",
       "      <td>0.742619</td>\n",
       "    </tr>\n",
       "    <tr>\n",
       "      <th>social_support</th>\n",
       "      <td>-0.569748</td>\n",
       "      <td>0.679211</td>\n",
       "      <td>-0.482560</td>\n",
       "      <td>-0.617972</td>\n",
       "      <td>-0.572988</td>\n",
       "      <td>-0.752531</td>\n",
       "      <td>0.554553</td>\n",
       "      <td>-0.365173</td>\n",
       "      <td>-0.492094</td>\n",
       "      <td>0.466594</td>\n",
       "      <td>0.614988</td>\n",
       "      <td>0.584141</td>\n",
       "      <td>0.567501</td>\n",
       "      <td>-0.473312</td>\n",
       "      <td>0.681288</td>\n",
       "      <td>-0.602792</td>\n",
       "      <td>1.000000</td>\n",
       "      <td>-0.490172</td>\n",
       "      <td>-0.530047</td>\n",
       "      <td>-0.567078</td>\n",
       "      <td>-0.632497</td>\n",
       "    </tr>\n",
       "    <tr>\n",
       "      <th>peer_pressure</th>\n",
       "      <td>0.642910</td>\n",
       "      <td>-0.607118</td>\n",
       "      <td>0.580602</td>\n",
       "      <td>0.635544</td>\n",
       "      <td>0.622581</td>\n",
       "      <td>0.401392</td>\n",
       "      <td>-0.649098</td>\n",
       "      <td>0.492729</td>\n",
       "      <td>0.583817</td>\n",
       "      <td>-0.501795</td>\n",
       "      <td>-0.556945</td>\n",
       "      <td>-0.587037</td>\n",
       "      <td>-0.562948</td>\n",
       "      <td>0.544189</td>\n",
       "      <td>-0.587770</td>\n",
       "      <td>0.666873</td>\n",
       "      <td>-0.490172</td>\n",
       "      <td>1.000000</td>\n",
       "      <td>0.618371</td>\n",
       "      <td>0.661058</td>\n",
       "      <td>0.690684</td>\n",
       "    </tr>\n",
       "    <tr>\n",
       "      <th>extracurricular_activities</th>\n",
       "      <td>0.641022</td>\n",
       "      <td>-0.641202</td>\n",
       "      <td>0.554576</td>\n",
       "      <td>0.648551</td>\n",
       "      <td>0.582562</td>\n",
       "      <td>0.426254</td>\n",
       "      <td>-0.623092</td>\n",
       "      <td>0.516884</td>\n",
       "      <td>0.563614</td>\n",
       "      <td>-0.515794</td>\n",
       "      <td>-0.580304</td>\n",
       "      <td>-0.506426</td>\n",
       "      <td>-0.588612</td>\n",
       "      <td>0.543543</td>\n",
       "      <td>-0.582311</td>\n",
       "      <td>0.666565</td>\n",
       "      <td>-0.530047</td>\n",
       "      <td>0.618371</td>\n",
       "      <td>1.000000</td>\n",
       "      <td>0.651979</td>\n",
       "      <td>0.692977</td>\n",
       "    </tr>\n",
       "    <tr>\n",
       "      <th>bullying</th>\n",
       "      <td>0.709982</td>\n",
       "      <td>-0.640737</td>\n",
       "      <td>0.624366</td>\n",
       "      <td>0.665790</td>\n",
       "      <td>0.609775</td>\n",
       "      <td>0.370440</td>\n",
       "      <td>-0.699427</td>\n",
       "      <td>0.576341</td>\n",
       "      <td>0.585458</td>\n",
       "      <td>-0.551139</td>\n",
       "      <td>-0.645673</td>\n",
       "      <td>-0.644886</td>\n",
       "      <td>-0.666229</td>\n",
       "      <td>0.586669</td>\n",
       "      <td>-0.655960</td>\n",
       "      <td>0.711278</td>\n",
       "      <td>-0.567078</td>\n",
       "      <td>0.661058</td>\n",
       "      <td>0.651979</td>\n",
       "      <td>1.000000</td>\n",
       "      <td>0.751162</td>\n",
       "    </tr>\n",
       "    <tr>\n",
       "      <th>stress_level</th>\n",
       "      <td>0.736795</td>\n",
       "      <td>-0.756195</td>\n",
       "      <td>0.648644</td>\n",
       "      <td>0.734379</td>\n",
       "      <td>0.713484</td>\n",
       "      <td>0.394200</td>\n",
       "      <td>-0.749068</td>\n",
       "      <td>0.573984</td>\n",
       "      <td>0.663371</td>\n",
       "      <td>-0.581723</td>\n",
       "      <td>-0.709602</td>\n",
       "      <td>-0.708968</td>\n",
       "      <td>-0.720922</td>\n",
       "      <td>0.634156</td>\n",
       "      <td>-0.680163</td>\n",
       "      <td>0.742619</td>\n",
       "      <td>-0.632497</td>\n",
       "      <td>0.690684</td>\n",
       "      <td>0.692977</td>\n",
       "      <td>0.751162</td>\n",
       "      <td>1.000000</td>\n",
       "    </tr>\n",
       "  </tbody>\n",
       "</table>\n",
       "</div>"
      ],
      "text/plain": [
       "                              anxiety_level  self_esteem  \\\n",
       "anxiety_level                      1.000000    -0.672745   \n",
       "self_esteem                       -0.672745     1.000000   \n",
       "mental_health_history              0.634450    -0.603502   \n",
       "depression                         0.694340    -0.699602   \n",
       "headache                           0.632738    -0.626058   \n",
       "blood_pressure                     0.330867    -0.514692   \n",
       "sleep_quality                     -0.710292     0.662693   \n",
       "breathing_problem                  0.561654    -0.510514   \n",
       "noise_level                        0.608624    -0.571169   \n",
       "living_conditions                 -0.568434     0.550535   \n",
       "safety                            -0.651220     0.643981   \n",
       "basic_needs                       -0.637079     0.631212   \n",
       "academic_performance              -0.649601     0.639045   \n",
       "study_load                         0.586064    -0.575112   \n",
       "teacher_student_relationship      -0.663176     0.652934   \n",
       "future_career_concerns             0.717016    -0.712520   \n",
       "social_support                    -0.569748     0.679211   \n",
       "peer_pressure                      0.642910    -0.607118   \n",
       "extracurricular_activities         0.641022    -0.641202   \n",
       "bullying                           0.709982    -0.640737   \n",
       "stress_level                       0.736795    -0.756195   \n",
       "\n",
       "                              mental_health_history  depression  headache  \\\n",
       "anxiety_level                              0.634450    0.694340  0.632738   \n",
       "self_esteem                               -0.603502   -0.699602 -0.626058   \n",
       "mental_health_history                      1.000000    0.615882  0.604826   \n",
       "depression                                 0.615882    1.000000  0.657700   \n",
       "headache                                   0.604826    0.657700  1.000000   \n",
       "blood_pressure                             0.295617    0.436084  0.361986   \n",
       "sleep_quality                             -0.614146   -0.693161 -0.638771   \n",
       "breathing_problem                          0.464347    0.522540  0.461719   \n",
       "noise_level                                0.515290    0.566250  0.543557   \n",
       "living_conditions                         -0.508525   -0.530351 -0.532825   \n",
       "safety                                    -0.546731   -0.625857 -0.589136   \n",
       "basic_needs                               -0.601196   -0.608776 -0.623199   \n",
       "academic_performance                      -0.586193   -0.633174 -0.622059   \n",
       "study_load                                 0.532267    0.602498  0.542890   \n",
       "teacher_student_relationship              -0.587728   -0.673853 -0.625928   \n",
       "future_career_concerns                     0.625909    0.706561  0.679307   \n",
       "social_support                            -0.482560   -0.617972 -0.572988   \n",
       "peer_pressure                              0.580602    0.635544  0.622581   \n",
       "extracurricular_activities                 0.554576    0.648551  0.582562   \n",
       "bullying                                   0.624366    0.665790  0.609775   \n",
       "stress_level                               0.648644    0.734379  0.713484   \n",
       "\n",
       "                              blood_pressure  sleep_quality  \\\n",
       "anxiety_level                       0.330867      -0.710292   \n",
       "self_esteem                        -0.514692       0.662693   \n",
       "mental_health_history               0.295617      -0.614146   \n",
       "depression                          0.436084      -0.693161   \n",
       "headache                            0.361986      -0.638771   \n",
       "blood_pressure                      1.000000      -0.300323   \n",
       "sleep_quality                      -0.300323       1.000000   \n",
       "breathing_problem                   0.162308      -0.541687   \n",
       "noise_level                         0.352744      -0.576645   \n",
       "living_conditions                  -0.274686       0.535462   \n",
       "safety                             -0.288354       0.657686   \n",
       "basic_needs                        -0.280590       0.620955   \n",
       "academic_performance               -0.262785       0.671326   \n",
       "study_load                          0.348964      -0.551775   \n",
       "teacher_student_relationship       -0.352123       0.677569   \n",
       "future_career_concerns              0.434087      -0.682130   \n",
       "social_support                     -0.752531       0.554553   \n",
       "peer_pressure                       0.401392      -0.649098   \n",
       "extracurricular_activities          0.426254      -0.623092   \n",
       "bullying                            0.370440      -0.699427   \n",
       "stress_level                        0.394200      -0.749068   \n",
       "\n",
       "                              breathing_problem  noise_level  \\\n",
       "anxiety_level                          0.561654     0.608624   \n",
       "self_esteem                           -0.510514    -0.571169   \n",
       "mental_health_history                  0.464347     0.515290   \n",
       "depression                             0.522540     0.566250   \n",
       "headache                               0.461719     0.543557   \n",
       "blood_pressure                         0.162308     0.352744   \n",
       "sleep_quality                         -0.541687    -0.576645   \n",
       "breathing_problem                      1.000000     0.459235   \n",
       "noise_level                            0.459235     1.000000   \n",
       "living_conditions                     -0.448997    -0.452362   \n",
       "safety                                -0.519348    -0.536630   \n",
       "basic_needs                           -0.508172    -0.572327   \n",
       "academic_performance                  -0.507251    -0.513730   \n",
       "study_load                             0.428791     0.493625   \n",
       "teacher_student_relationship          -0.498895    -0.538758   \n",
       "future_career_concerns                 0.545345     0.575439   \n",
       "social_support                        -0.365173    -0.492094   \n",
       "peer_pressure                          0.492729     0.583817   \n",
       "extracurricular_activities             0.516884     0.563614   \n",
       "bullying                               0.576341     0.585458   \n",
       "stress_level                           0.573984     0.663371   \n",
       "\n",
       "                              living_conditions    safety  basic_needs  \\\n",
       "anxiety_level                         -0.568434 -0.651220    -0.637079   \n",
       "self_esteem                            0.550535  0.643981     0.631212   \n",
       "mental_health_history                 -0.508525 -0.546731    -0.601196   \n",
       "depression                            -0.530351 -0.625857    -0.608776   \n",
       "headache                              -0.532825 -0.589136    -0.623199   \n",
       "blood_pressure                        -0.274686 -0.288354    -0.280590   \n",
       "sleep_quality                          0.535462  0.657686     0.620955   \n",
       "breathing_problem                     -0.448997 -0.519348    -0.508172   \n",
       "noise_level                           -0.452362 -0.536630    -0.572327   \n",
       "living_conditions                      1.000000  0.563571     0.503275   \n",
       "safety                                 0.563571  1.000000     0.624774   \n",
       "basic_needs                            0.503275  0.624774     1.000000   \n",
       "academic_performance                   0.507221  0.642846     0.639387   \n",
       "study_load                            -0.437732 -0.493903    -0.513459   \n",
       "teacher_student_relationship           0.549332  0.663328     0.649519   \n",
       "future_career_concerns                -0.565071 -0.658106    -0.639348   \n",
       "social_support                         0.466594  0.614988     0.584141   \n",
       "peer_pressure                         -0.501795 -0.556945    -0.587037   \n",
       "extracurricular_activities            -0.515794 -0.580304    -0.506426   \n",
       "bullying                              -0.551139 -0.645673    -0.644886   \n",
       "stress_level                          -0.581723 -0.709602    -0.708968   \n",
       "\n",
       "                              academic_performance  study_load  \\\n",
       "anxiety_level                            -0.649601    0.586064   \n",
       "self_esteem                               0.639045   -0.575112   \n",
       "mental_health_history                    -0.586193    0.532267   \n",
       "depression                               -0.633174    0.602498   \n",
       "headache                                 -0.622059    0.542890   \n",
       "blood_pressure                           -0.262785    0.348964   \n",
       "sleep_quality                             0.671326   -0.551775   \n",
       "breathing_problem                        -0.507251    0.428791   \n",
       "noise_level                              -0.513730    0.493625   \n",
       "living_conditions                         0.507221   -0.437732   \n",
       "safety                                    0.642846   -0.493903   \n",
       "basic_needs                               0.639387   -0.513459   \n",
       "academic_performance                      1.000000   -0.520417   \n",
       "study_load                               -0.520417    1.000000   \n",
       "teacher_student_relationship              0.669469   -0.514123   \n",
       "future_career_concerns                   -0.643805    0.576078   \n",
       "social_support                            0.567501   -0.473312   \n",
       "peer_pressure                            -0.562948    0.544189   \n",
       "extracurricular_activities               -0.588612    0.543543   \n",
       "bullying                                 -0.666229    0.586669   \n",
       "stress_level                             -0.720922    0.634156   \n",
       "\n",
       "                              teacher_student_relationship  \\\n",
       "anxiety_level                                    -0.663176   \n",
       "self_esteem                                       0.652934   \n",
       "mental_health_history                            -0.587728   \n",
       "depression                                       -0.673853   \n",
       "headache                                         -0.625928   \n",
       "blood_pressure                                   -0.352123   \n",
       "sleep_quality                                     0.677569   \n",
       "breathing_problem                                -0.498895   \n",
       "noise_level                                      -0.538758   \n",
       "living_conditions                                 0.549332   \n",
       "safety                                            0.663328   \n",
       "basic_needs                                       0.649519   \n",
       "academic_performance                              0.669469   \n",
       "study_load                                       -0.514123   \n",
       "teacher_student_relationship                      1.000000   \n",
       "future_career_concerns                           -0.670255   \n",
       "social_support                                    0.681288   \n",
       "peer_pressure                                    -0.587770   \n",
       "extracurricular_activities                       -0.582311   \n",
       "bullying                                         -0.655960   \n",
       "stress_level                                     -0.680163   \n",
       "\n",
       "                              future_career_concerns  social_support  \\\n",
       "anxiety_level                               0.717016       -0.569748   \n",
       "self_esteem                                -0.712520        0.679211   \n",
       "mental_health_history                       0.625909       -0.482560   \n",
       "depression                                  0.706561       -0.617972   \n",
       "headache                                    0.679307       -0.572988   \n",
       "blood_pressure                              0.434087       -0.752531   \n",
       "sleep_quality                              -0.682130        0.554553   \n",
       "breathing_problem                           0.545345       -0.365173   \n",
       "noise_level                                 0.575439       -0.492094   \n",
       "living_conditions                          -0.565071        0.466594   \n",
       "safety                                     -0.658106        0.614988   \n",
       "basic_needs                                -0.639348        0.584141   \n",
       "academic_performance                       -0.643805        0.567501   \n",
       "study_load                                  0.576078       -0.473312   \n",
       "teacher_student_relationship               -0.670255        0.681288   \n",
       "future_career_concerns                      1.000000       -0.602792   \n",
       "social_support                             -0.602792        1.000000   \n",
       "peer_pressure                               0.666873       -0.490172   \n",
       "extracurricular_activities                  0.666565       -0.530047   \n",
       "bullying                                    0.711278       -0.567078   \n",
       "stress_level                                0.742619       -0.632497   \n",
       "\n",
       "                              peer_pressure  extracurricular_activities  \\\n",
       "anxiety_level                      0.642910                    0.641022   \n",
       "self_esteem                       -0.607118                   -0.641202   \n",
       "mental_health_history              0.580602                    0.554576   \n",
       "depression                         0.635544                    0.648551   \n",
       "headache                           0.622581                    0.582562   \n",
       "blood_pressure                     0.401392                    0.426254   \n",
       "sleep_quality                     -0.649098                   -0.623092   \n",
       "breathing_problem                  0.492729                    0.516884   \n",
       "noise_level                        0.583817                    0.563614   \n",
       "living_conditions                 -0.501795                   -0.515794   \n",
       "safety                            -0.556945                   -0.580304   \n",
       "basic_needs                       -0.587037                   -0.506426   \n",
       "academic_performance              -0.562948                   -0.588612   \n",
       "study_load                         0.544189                    0.543543   \n",
       "teacher_student_relationship      -0.587770                   -0.582311   \n",
       "future_career_concerns             0.666873                    0.666565   \n",
       "social_support                    -0.490172                   -0.530047   \n",
       "peer_pressure                      1.000000                    0.618371   \n",
       "extracurricular_activities         0.618371                    1.000000   \n",
       "bullying                           0.661058                    0.651979   \n",
       "stress_level                       0.690684                    0.692977   \n",
       "\n",
       "                              bullying  stress_level  \n",
       "anxiety_level                 0.709982      0.736795  \n",
       "self_esteem                  -0.640737     -0.756195  \n",
       "mental_health_history         0.624366      0.648644  \n",
       "depression                    0.665790      0.734379  \n",
       "headache                      0.609775      0.713484  \n",
       "blood_pressure                0.370440      0.394200  \n",
       "sleep_quality                -0.699427     -0.749068  \n",
       "breathing_problem             0.576341      0.573984  \n",
       "noise_level                   0.585458      0.663371  \n",
       "living_conditions            -0.551139     -0.581723  \n",
       "safety                       -0.645673     -0.709602  \n",
       "basic_needs                  -0.644886     -0.708968  \n",
       "academic_performance         -0.666229     -0.720922  \n",
       "study_load                    0.586669      0.634156  \n",
       "teacher_student_relationship -0.655960     -0.680163  \n",
       "future_career_concerns        0.711278      0.742619  \n",
       "social_support               -0.567078     -0.632497  \n",
       "peer_pressure                 0.661058      0.690684  \n",
       "extracurricular_activities    0.651979      0.692977  \n",
       "bullying                      1.000000      0.751162  \n",
       "stress_level                  0.751162      1.000000  "
      ]
     },
     "execution_count": 19,
     "metadata": {},
     "output_type": "execute_result"
    }
   ],
   "source": [
    "data_corr=data.corr()\n",
    "data_corr"
   ]
  },
  {
   "cell_type": "code",
   "execution_count": 20,
   "id": "82db0c0c",
   "metadata": {},
   "outputs": [
    {
     "data": {
      "text/plain": [
       "<Axes: >"
      ]
     },
     "execution_count": 20,
     "metadata": {},
     "output_type": "execute_result"
    },
    {
     "data": {
      "image/png": "[encoded data removed]",
      "text/plain": [
       "<Figure size 800x800 with 2 Axes>"
      ]
     },
     "metadata": {},
     "output_type": "display_data"
    }
   ],
   "source": [
    "plt.figure(figsize = (8,8))\n",
    "colormap = sns.diverging_palette(145, 370, s = 80, as_cmap=True)\n",
    "sns.heatmap(data_corr.iloc[:-1,-1:], annot = True, cmap = colormap)"
   ]
  },
  {
   "cell_type": "markdown",
   "id": "70c75aca",
   "metadata": {},
   "source": [
    "We can say our original calculation was good. Nevertheless, we should keep it in mind that sometimes a higher value is better sometimes it is worse."
   ]
  },
  {
   "cell_type": "code",
   "execution_count": 21,
   "id": "4f3cd6d8",
   "metadata": {},
   "outputs": [
    {
     "data": {
      "text/plain": [
       "array([2, 5, 4, 3, 1, 0], dtype=int64)"
      ]
     },
     "execution_count": 21,
     "metadata": {},
     "output_type": "execute_result"
    }
   ],
   "source": [
    "data[\"headache\"].unique()"
   ]
  },
  {
   "cell_type": "code",
   "execution_count": 22,
   "id": "5f579b67",
   "metadata": {},
   "outputs": [
    {
     "data": {
      "text/plain": [
       "556"
      ]
     },
     "execution_count": 22,
     "metadata": {},
     "output_type": "execute_result"
    }
   ],
   "source": [
    "len(data.loc[data[\"headache\"]>2])"
   ]
  },
  {
   "cell_type": "code",
   "execution_count": 23,
   "id": "752d6707",
   "metadata": {},
   "outputs": [],
   "source": [
    "#556 students have headache frequently"
   ]
  },
  {
   "cell_type": "code",
   "execution_count": 24,
   "id": "28a362c2",
   "metadata": {},
   "outputs": [
    {
     "data": {
      "text/plain": [
       "2.1818181818181817"
      ]
     },
     "execution_count": 24,
     "metadata": {},
     "output_type": "execute_result"
    }
   ],
   "source": [
    "data[\"blood_pressure\"].mean()"
   ]
  },
  {
   "cell_type": "code",
   "execution_count": 100,
   "id": "9b412f7c",
   "metadata": {},
   "outputs": [
    {
     "name": "stdout",
     "output_type": "stream",
     "text": [
      "The avarage blood pressure is: 113.6/77.7\n"
     ]
    }
   ],
   "source": [
    "def calc_systolic(row):\n",
    "    if row[\"blood_pressure\"] == 1:\n",
    "        return 90 \n",
    "    if row[\"blood_pressure\"] == 2:\n",
    "        return 110 \n",
    "    else:\n",
    "        return 130\n",
    "def calc_diastolic(row):\n",
    "    if row[\"blood_pressure\"] == 1:\n",
    "        return 60\n",
    "    if row[\"blood_pressure\"] == 2:\n",
    "        return 75\n",
    "    else:\n",
    "        return 90\n",
    "    \n",
    "#Create an empty dataframe for the blood pressure values\n",
    "stress_bp  = pd.DataFrame()\n",
    "stress_bp[[\"systolic\", \"diastolic\"]] = data.apply([calc_systolic,calc_diastolic], axis = 1)\n",
    "print(\"The avarage blood pressure is: \", round(stress_bp[\"systolic\"].mean(),1),\"/\",round(stress_bp[\"diastolic\"].mean(),1), sep = \"\")"
   ]
  },
  {
   "cell_type": "code",
   "execution_count": 101,
   "id": "510238f7",
   "metadata": {},
   "outputs": [
    {
     "name": "stdout",
     "output_type": "stream",
     "text": [
      "550 students have bad sleep quality.\n"
     ]
    }
   ],
   "source": [
    "print(len(data.loc[data[\"sleep_quality\"] < 3]), \"students have bad sleep quality.\")\n"
   ]
  },
  {
   "cell_type": "markdown",
   "id": "6f1c7688",
   "metadata": {},
   "source": [
    "# ENVIRONMENTAL FACTORS"
   ]
  },
  {
   "cell_type": "code",
   "execution_count": 102,
   "id": "fb0228d7",
   "metadata": {},
   "outputs": [
    {
     "name": "stdout",
     "output_type": "stream",
     "text": [
      "274 students live in high noise level areas.\n",
      "18.64% of students feel unsafe in their living conditions.\n",
      "548 students reported, that their basic needs didn't met.\n"
     ]
    }
   ],
   "source": [
    "print(len(data.loc[data[\"noise_level\"] >= 4]),\"students live in high noise level areas.\")\n",
    "print(round((len(data.loc[data[\"living_conditions\"] <= 1])/len(data))*100,2),\"% of students feel unsafe in their living conditions.\", sep = \"\")\n",
    "print(len(data.loc[data[\"basic_needs\"] <= 2]),\"students reported, that their basic needs didn't met.\")"
   ]
  },
  {
   "cell_type": "markdown",
   "id": "e992bbcb",
   "metadata": {},
   "source": [
    "# ACADEMIC FACTORS"
   ]
  },
  {
   "cell_type": "code",
   "execution_count": 103,
   "id": "35f535a7",
   "metadata": {},
   "outputs": [
    {
     "data": {
      "text/plain": [
       "Index(['anxiety_level', 'self_esteem', 'mental_health_history', 'depression',\n",
       "       'headache', 'blood_pressure', 'sleep_quality', 'breathing_problem',\n",
       "       'noise_level', 'living_conditions', 'safety', 'basic_needs',\n",
       "       'academic_performance', 'study_load', 'teacher_student_relationship',\n",
       "       'future_career_concerns', 'social_support', 'peer_pressure',\n",
       "       'extracurricular_activities', 'bullying', 'stress_level'],\n",
       "      dtype='object')"
      ]
     },
     "execution_count": 103,
     "metadata": {},
     "output_type": "execute_result"
    }
   ],
   "source": [
    "data.columns"
   ]
  },
  {
   "cell_type": "code",
   "execution_count": 104,
   "id": "dd3bc6b8",
   "metadata": {},
   "outputs": [
    {
     "data": {
      "text/html": [
       "<div>\n",
       "<style scoped>\n",
       "    .dataframe tbody tr th:only-of-type {\n",
       "        vertical-align: middle;\n",
       "    }\n",
       "\n",
       "    .dataframe tbody tr th {\n",
       "        vertical-align: top;\n",
       "    }\n",
       "\n",
       "    .dataframe thead th {\n",
       "        text-align: right;\n",
       "    }\n",
       "</style>\n",
       "<table border=\"1\" class=\"dataframe\">\n",
       "  <thead>\n",
       "    <tr style=\"text-align: right;\">\n",
       "      <th></th>\n",
       "      <th>academic_performance</th>\n",
       "      <th>study_load</th>\n",
       "      <th>teacher_student_relationship</th>\n",
       "      <th>future_career_concerns</th>\n",
       "    </tr>\n",
       "  </thead>\n",
       "  <tbody>\n",
       "    <tr>\n",
       "      <th>0</th>\n",
       "      <td>3</td>\n",
       "      <td>2</td>\n",
       "      <td>3</td>\n",
       "      <td>3</td>\n",
       "    </tr>\n",
       "    <tr>\n",
       "      <th>1</th>\n",
       "      <td>1</td>\n",
       "      <td>4</td>\n",
       "      <td>1</td>\n",
       "      <td>5</td>\n",
       "    </tr>\n",
       "    <tr>\n",
       "      <th>2</th>\n",
       "      <td>2</td>\n",
       "      <td>3</td>\n",
       "      <td>3</td>\n",
       "      <td>2</td>\n",
       "    </tr>\n",
       "    <tr>\n",
       "      <th>3</th>\n",
       "      <td>2</td>\n",
       "      <td>4</td>\n",
       "      <td>1</td>\n",
       "      <td>4</td>\n",
       "    </tr>\n",
       "    <tr>\n",
       "      <th>4</th>\n",
       "      <td>4</td>\n",
       "      <td>3</td>\n",
       "      <td>1</td>\n",
       "      <td>2</td>\n",
       "    </tr>\n",
       "    <tr>\n",
       "      <th>...</th>\n",
       "      <td>...</td>\n",
       "      <td>...</td>\n",
       "      <td>...</td>\n",
       "      <td>...</td>\n",
       "    </tr>\n",
       "    <tr>\n",
       "      <th>1095</th>\n",
       "      <td>2</td>\n",
       "      <td>2</td>\n",
       "      <td>2</td>\n",
       "      <td>3</td>\n",
       "    </tr>\n",
       "    <tr>\n",
       "      <th>1096</th>\n",
       "      <td>0</td>\n",
       "      <td>1</td>\n",
       "      <td>1</td>\n",
       "      <td>1</td>\n",
       "    </tr>\n",
       "    <tr>\n",
       "      <th>1097</th>\n",
       "      <td>5</td>\n",
       "      <td>1</td>\n",
       "      <td>4</td>\n",
       "      <td>1</td>\n",
       "    </tr>\n",
       "    <tr>\n",
       "      <th>1098</th>\n",
       "      <td>2</td>\n",
       "      <td>5</td>\n",
       "      <td>1</td>\n",
       "      <td>4</td>\n",
       "    </tr>\n",
       "    <tr>\n",
       "      <th>1099</th>\n",
       "      <td>3</td>\n",
       "      <td>4</td>\n",
       "      <td>3</td>\n",
       "      <td>3</td>\n",
       "    </tr>\n",
       "  </tbody>\n",
       "</table>\n",
       "<p>1100 rows × 4 columns</p>\n",
       "</div>"
      ],
      "text/plain": [
       "      academic_performance  study_load  teacher_student_relationship  \\\n",
       "0                        3           2                             3   \n",
       "1                        1           4                             1   \n",
       "2                        2           3                             3   \n",
       "3                        2           4                             1   \n",
       "4                        4           3                             1   \n",
       "...                    ...         ...                           ...   \n",
       "1095                     2           2                             2   \n",
       "1096                     0           1                             1   \n",
       "1097                     5           1                             4   \n",
       "1098                     2           5                             1   \n",
       "1099                     3           4                             3   \n",
       "\n",
       "      future_career_concerns  \n",
       "0                          3  \n",
       "1                          5  \n",
       "2                          2  \n",
       "3                          4  \n",
       "4                          2  \n",
       "...                      ...  \n",
       "1095                       3  \n",
       "1096                       1  \n",
       "1097                       1  \n",
       "1098                       4  \n",
       "1099                       3  \n",
       "\n",
       "[1100 rows x 4 columns]"
      ]
     },
     "execution_count": 104,
     "metadata": {},
     "output_type": "execute_result"
    }
   ],
   "source": [
    "academic=data.loc[:,[\"academic_performance\",\"study_load\",\"teacher_student_relationship\",\"future_career_concerns\"]]\n",
    "academic"
   ]
  },
  {
   "cell_type": "code",
   "execution_count": 105,
   "id": "e8b69aed",
   "metadata": {},
   "outputs": [
    {
     "data": {
      "text/plain": [
       "2.772727272727273"
      ]
     },
     "execution_count": 105,
     "metadata": {},
     "output_type": "execute_result"
    }
   ],
   "source": [
    "academic[\"academic_performance\"].mean()"
   ]
  },
  {
   "cell_type": "code",
   "execution_count": 106,
   "id": "a4263827",
   "metadata": {},
   "outputs": [
    {
     "data": {
      "text/plain": [
       "561"
      ]
     },
     "execution_count": 106,
     "metadata": {},
     "output_type": "execute_result"
    }
   ],
   "source": [
    "len(academic.loc[academic[\"academic_performance\"]<academic[\"academic_performance\"].mean()])"
   ]
  },
  {
   "cell_type": "code",
   "execution_count": 107,
   "id": "f37f6772",
   "metadata": {},
   "outputs": [],
   "source": [
    "#561 students are below avergae"
   ]
  },
  {
   "cell_type": "code",
   "execution_count": 108,
   "id": "211596e3",
   "metadata": {},
   "outputs": [
    {
     "data": {
      "text/plain": [
       "2.6218181818181816"
      ]
     },
     "execution_count": 108,
     "metadata": {},
     "output_type": "execute_result"
    }
   ],
   "source": [
    "academic[\"study_load\"].mean()"
   ]
  },
  {
   "cell_type": "code",
   "execution_count": 109,
   "id": "97437ed8",
   "metadata": {},
   "outputs": [],
   "source": [
    "#2.62 is the average study load by students "
   ]
  },
  {
   "cell_type": "code",
   "execution_count": 110,
   "id": "8e78411a",
   "metadata": {},
   "outputs": [
    {
     "data": {
      "text/plain": [
       "array([3, 5, 2, 4, 1, 0], dtype=int64)"
      ]
     },
     "execution_count": 110,
     "metadata": {},
     "output_type": "execute_result"
    }
   ],
   "source": [
    "academic[\"future_career_concerns\"].unique()"
   ]
  },
  {
   "cell_type": "code",
   "execution_count": 111,
   "id": "00927d0d",
   "metadata": {},
   "outputs": [
    {
     "data": {
      "text/plain": [
       "future_career_concerns\n",
       "False    729\n",
       "True     371\n",
       "Name: count, dtype: int64"
      ]
     },
     "execution_count": 111,
     "metadata": {},
     "output_type": "execute_result"
    }
   ],
   "source": [
    "(academic[\"future_career_concerns\"]>=4).value_counts()\n",
    "#371 students have high concern about their career"
   ]
  },
  {
   "cell_type": "markdown",
   "id": "98531d88",
   "metadata": {},
   "source": [
    "# SOCIAL FACTORS"
   ]
  },
  {
   "cell_type": "raw",
   "id": "b4278a8e",
   "metadata": {},
   "source": [
    "How many students feel they have strong social support?\n",
    "What percentage of students have experienced bullying?\n",
    "How many students participate in extracurricular activities?\n",
    "I won't do these exercises for two reasons. First, they are quite similar in fashion to the previous questions. Second, based on the dataset besides the first question, it is hard to answer. The case of extracurricular activities is very interesting, based on the dataset, there is a strong positive correlation between these activities and stress level, but based on two studies what I've found on the topic[1],[2]they could be good techniques against it.(https://www.ncbi.nlm.nih.gov/pmc/articles/PMC7320478/), (https://www.ncbi.nlm.nih.gov/pmc/articles/PMC8274476/)"
   ]
  },
  {
   "cell_type": "markdown",
   "id": "73557773",
   "metadata": {},
   "source": [
    "# Comparative Analysis"
   ]
  },
  {
   "cell_type": "markdown",
   "id": "6cd33a45",
   "metadata": {},
   "source": [
    "Comparative Analysis:\n",
    "\n",
    "Is there a correlation between anxiety level and academic performance?\n",
    "\n",
    "Do students with poor sleep quality also report higher levels of depression?\n",
    "\n",
    "Are students who experience bullying more likely to have a history of mental health issues?"
   ]
  },
  {
   "cell_type": "code",
   "execution_count": 112,
   "id": "a13d6e6f",
   "metadata": {},
   "outputs": [
    {
     "data": {
      "text/plain": [
       "-0.649601129614508"
      ]
     },
     "execution_count": 112,
     "metadata": {},
     "output_type": "execute_result"
    }
   ],
   "source": [
    "data[\"anxiety_level\"].corr(data[\"academic_performance\"])"
   ]
  },
  {
   "cell_type": "code",
   "execution_count": 34,
   "id": "ea3fb3ff",
   "metadata": {},
   "outputs": [],
   "source": [
    "# its showing a negative correlation the value is not high but if anxiety level increses academic per dec"
   ]
  },
  {
   "cell_type": "code",
   "execution_count": 113,
   "id": "b1ef07a1",
   "metadata": {},
   "outputs": [
    {
     "data": {
      "text/html": [
       "<div>\n",
       "<style scoped>\n",
       "    .dataframe tbody tr th:only-of-type {\n",
       "        vertical-align: middle;\n",
       "    }\n",
       "\n",
       "    .dataframe tbody tr th {\n",
       "        vertical-align: top;\n",
       "    }\n",
       "\n",
       "    .dataframe thead th {\n",
       "        text-align: right;\n",
       "    }\n",
       "</style>\n",
       "<table border=\"1\" class=\"dataframe\">\n",
       "  <thead>\n",
       "    <tr style=\"text-align: right;\">\n",
       "      <th></th>\n",
       "      <th>depression</th>\n",
       "      <th>sleep_quality</th>\n",
       "    </tr>\n",
       "  </thead>\n",
       "  <tbody>\n",
       "    <tr>\n",
       "      <th>depression</th>\n",
       "      <td>1.000000</td>\n",
       "      <td>-0.693161</td>\n",
       "    </tr>\n",
       "    <tr>\n",
       "      <th>sleep_quality</th>\n",
       "      <td>-0.693161</td>\n",
       "      <td>1.000000</td>\n",
       "    </tr>\n",
       "  </tbody>\n",
       "</table>\n",
       "</div>"
      ],
      "text/plain": [
       "               depression  sleep_quality\n",
       "depression       1.000000      -0.693161\n",
       "sleep_quality   -0.693161       1.000000"
      ]
     },
     "execution_count": 113,
     "metadata": {},
     "output_type": "execute_result"
    }
   ],
   "source": [
    "data.loc[:,[\"depression\",\"sleep_quality\"]].corr()"
   ]
  },
  {
   "cell_type": "code",
   "execution_count": 36,
   "id": "589fe050",
   "metadata": {},
   "outputs": [],
   "source": [
    "# depression and sleep quality is showing negative correlation which explains less sleep increases depression"
   ]
  },
  {
   "cell_type": "code",
   "execution_count": 114,
   "id": "d8a4b61b",
   "metadata": {},
   "outputs": [
    {
     "data": {
      "text/html": [
       "<div>\n",
       "<style scoped>\n",
       "    .dataframe tbody tr th:only-of-type {\n",
       "        vertical-align: middle;\n",
       "    }\n",
       "\n",
       "    .dataframe tbody tr th {\n",
       "        vertical-align: top;\n",
       "    }\n",
       "\n",
       "    .dataframe thead th {\n",
       "        text-align: right;\n",
       "    }\n",
       "</style>\n",
       "<table border=\"1\" class=\"dataframe\">\n",
       "  <thead>\n",
       "    <tr style=\"text-align: right;\">\n",
       "      <th></th>\n",
       "      <th>mental_health_history</th>\n",
       "      <th>bullying</th>\n",
       "    </tr>\n",
       "  </thead>\n",
       "  <tbody>\n",
       "    <tr>\n",
       "      <th>mental_health_history</th>\n",
       "      <td>1.000000</td>\n",
       "      <td>0.624366</td>\n",
       "    </tr>\n",
       "    <tr>\n",
       "      <th>bullying</th>\n",
       "      <td>0.624366</td>\n",
       "      <td>1.000000</td>\n",
       "    </tr>\n",
       "  </tbody>\n",
       "</table>\n",
       "</div>"
      ],
      "text/plain": [
       "                       mental_health_history  bullying\n",
       "mental_health_history               1.000000  0.624366\n",
       "bullying                            0.624366  1.000000"
      ]
     },
     "execution_count": 114,
     "metadata": {},
     "output_type": "execute_result"
    }
   ],
   "source": [
    "data.loc[:,[\"mental_health_history\",\"bullying\"]].corr()\n",
    "#both are showing +ve correlation which explains when bullying increases mental health history also increases"
   ]
  },
  {
   "cell_type": "markdown",
   "id": "5b1e6d54",
   "metadata": {},
   "source": [
    "General Exploration:\n",
    "\n",
    "Which factor (Psychological, Physiological, Environmental, Academic, Social) has the highest number of students reporting negative experiences or conditions?\n",
    "\n",
    "Are there any noticeable trends or patterns when comparing different factors?\n",
    "\n",
    "Which specific feature within each factor has the most significant impact on student stress, based on the dataset?"
   ]
  },
  {
   "cell_type": "code",
   "execution_count": 115,
   "id": "0535dcae",
   "metadata": {},
   "outputs": [],
   "source": [
    "#We don't want to count the same person more than once, and also have to pay attention, which values are \"bad\", and which ones are \"good\"\n",
    "\n",
    "#Separate the mental factor columns\n",
    "mental_pos = data[[\"anxiety_level\", \"depression\", \"self_esteem\", \"mental_health_history\"]]\n",
    "#Create a dictionary\n",
    "mental_pos_count = {}\n",
    "#Iterate over the pyschological factor columns\n",
    "for column,row in mental_pos.items():\n",
    "    #If it is anxiety or depression we count the people who are in the upper 40%\n",
    "    if column == \"anxiety_level\" or column == \"depression\":\n",
    "        count = (row > np.percentile(mental_pos[column],60))\n",
    "        #Add the resulting dataset to the dictionary under the column's name\n",
    "        mental_pos_count[column] = count\n",
    "    #Everyone who had history with mental diseases get counted\n",
    "    elif column == \"mental_health_history\":\n",
    "        count = row == 1\n",
    "        #Add the resulting dataset to the dictionary under the column's name\n",
    "        mental_pos_count[column] = count\n",
    "    #People who are in the lower 40% get counted for self-esteem\n",
    "    else:\n",
    "        count = (row < np.percentile(mental_pos[column],40))\n",
    "        #Add the resulting dataset to the dictionary under the column's name\n",
    "        mental_pos_count[column] = count\n",
    "#Create a pandas dataframe\n",
    "mental_pos_df = pd.DataFrame(mental_pos_count)\n",
    "#Count every row where atleast one value is true\n",
    "mental_number = len((mental_pos_df[(mental_pos_df >= 1).sum(axis=1) >= 1]))"
   ]
  },
  {
   "cell_type": "code",
   "execution_count": 116,
   "id": "91ee15a9",
   "metadata": {},
   "outputs": [
    {
     "data": {
      "text/plain": [
       "673"
      ]
     },
     "execution_count": 116,
     "metadata": {},
     "output_type": "execute_result"
    }
   ],
   "source": [
    "mental_number"
   ]
  },
  {
   "cell_type": "code",
   "execution_count": 117,
   "id": "742ce065",
   "metadata": {},
   "outputs": [],
   "source": [
    "#Separate the mental factor columns\n",
    "physical = data[[\"headache\", \"blood_pressure\", \"sleep_quality\", \"breathing_problem\"]]\n",
    "#Create a dictionary\n",
    "physical_dict = {}\n",
    "#Iterate over the physical factor columns\n",
    "for column,row in physical.items():\n",
    "    #People in the upper 40% for headache, breathing problems or blood pressure get counted\n",
    "    if column == \"headache\" or column == \"breathing problem\" or column == \"blood_pressure\":\n",
    "        count = (row > np.percentile(physical[column],60))\n",
    "        #Add the resulting dataset to the dictionary under the column's name\n",
    "        physical_dict[column] = count\n",
    "    #People in the lower 40% for sleep quality get counted\n",
    "    else:\n",
    "        count = (row < np.percentile(physical[column],40))\n",
    "        #Add the resulting dataset to the dictionary under the column's name\n",
    "        physical_dict[column] = count\n",
    "#Create a pandas dataframe\n",
    "physical_df = pd.DataFrame(physical_dict)\n",
    "#Count every row where atleast one value is true\n",
    "physical_number = len((physical_df[(physical_df >= 1).sum(axis=1) >= 1]))"
   ]
  },
  {
   "cell_type": "code",
   "execution_count": 118,
   "id": "6b47dba7",
   "metadata": {},
   "outputs": [
    {
     "data": {
      "text/plain": [
       "596"
      ]
     },
     "execution_count": 118,
     "metadata": {},
     "output_type": "execute_result"
    }
   ],
   "source": [
    "physical_number"
   ]
  },
  {
   "cell_type": "code",
   "execution_count": 119,
   "id": "596e4483",
   "metadata": {},
   "outputs": [],
   "source": [
    "#Separate the environmental factor columns\n",
    "env = data[[\"living_conditions\", \"safety\", \"basic_needs\", \"noise_level\"]]\n",
    "#Create a dictionary\n",
    "env_dict = {}\n",
    "#Iterate over the environmental factor columns\n",
    "for column,row in env.items():\n",
    "    #People in the upper 40% for noise level get counted\n",
    "    if column == \"noise_level\":\n",
    "        count = (row > np.percentile(env[column],60))\n",
    "        #Add the resulting dataset to the dictionary under the column's name\n",
    "        env_dict[column] = count\n",
    "    #People in the lower 40% for sleep quality get counted\n",
    "    else:\n",
    "        count = (row < np.percentile(env[column],40))\n",
    "        #Add the resulting dataset to the dictionary under the column's name\n",
    "        env_dict[column] = count\n",
    "#Create a pandas dataframe\n",
    "env_df = pd.DataFrame(env_dict)\n",
    "#Count every row where atleast one value is true\n",
    "env_number = len((env_df[(env_df >= 1).sum(axis=1) >= 1]))"
   ]
  },
  {
   "cell_type": "code",
   "execution_count": 121,
   "id": "7c12ecfc",
   "metadata": {},
   "outputs": [
    {
     "data": {
      "text/plain": [
       "455"
      ]
     },
     "execution_count": 121,
     "metadata": {},
     "output_type": "execute_result"
    }
   ],
   "source": [
    "env_number"
   ]
  },
  {
   "cell_type": "code",
   "execution_count": 122,
   "id": "d5c7f377",
   "metadata": {},
   "outputs": [],
   "source": [
    "#Separate the academic factor columns\n",
    "acad = data[[\"academic_performance\", \"study_load\", \"teacher_student_relationship\", \"future_career_concerns\"]]\n",
    "#Create a dictionary\n",
    "acad_dict = {}\n",
    "#Iterate over the academic factor columns\n",
    "for column,row in acad.items():\n",
    "    #People in the upper 40% for study load and future career concners get counted\n",
    "    if column == \"study_load\" or column == \"future_career_concerns\":\n",
    "        count = (row > np.percentile(acad[column],60))\n",
    "        #Add the resulting dataset to the dictionary under the column's name\n",
    "        acad_dict[column] = count\n",
    "    #People in the lower 40% for academic performance or teacher student relationship get counted\n",
    "    else:\n",
    "        count = (row < np.percentile(acad[column],40))\n",
    "        #Add the resulting dataset to the dictionary under the column's name\n",
    "        acad_dict[column] = count\n",
    "#Create a pandas dataframe\n",
    "acad_df = pd.DataFrame(acad_dict)\n",
    "#Count every row where atleast one value is true\n",
    "acad_number = len((acad_df[(acad_df >= 1).sum(axis=1) >= 1]))"
   ]
  },
  {
   "cell_type": "code",
   "execution_count": 123,
   "id": "364e46ca",
   "metadata": {},
   "outputs": [
    {
     "data": {
      "text/plain": [
       "469"
      ]
     },
     "execution_count": 123,
     "metadata": {},
     "output_type": "execute_result"
    }
   ],
   "source": [
    "acad_number"
   ]
  },
  {
   "cell_type": "code",
   "execution_count": 124,
   "id": "1dd98d42",
   "metadata": {},
   "outputs": [],
   "source": [
    "#Separate the social factor columns\n",
    "social = data.iloc[:, 16:20]\n",
    "#Create a dictionary\n",
    "social_dict = {}\n",
    "#Iterate over the academic factor columns\n",
    "for column,row in social.items():\n",
    "    #People in the upper 40% for peer pressure, extracurricular activities and bullying get counted\n",
    "    if column == \"peer_pressure\" or column == \"extracurricular_activities\" or column == \"bullying\":\n",
    "        count = (row > np.percentile(social[column],60))\n",
    "        #Add the resulting dataset to the dictionary under the column's name\n",
    "        social_dict[column] = count\n",
    "    #People in the lower 40% for social support get counted\n",
    "    else:\n",
    "        count = (row < np.percentile(social[column],40))\n",
    "        #Add the resulting dataset to the dictionary under the column's name\n",
    "        social_dict[column] = count\n",
    "#Create a pandas dataframe\n",
    "social_df = pd.DataFrame(social_dict)\n",
    "#Count every row where atleast one value is true\n",
    "social_number = len((social_df[(social_df >= 1).sum(axis=1) >= 1]))"
   ]
  },
  {
   "cell_type": "code",
   "execution_count": 125,
   "id": "bd96fbac",
   "metadata": {},
   "outputs": [
    {
     "data": {
      "text/plain": [
       "461"
      ]
     },
     "execution_count": 125,
     "metadata": {},
     "output_type": "execute_result"
    }
   ],
   "source": [
    "social_number"
   ]
  },
  {
   "cell_type": "code",
   "execution_count": 126,
   "id": "c61543e7",
   "metadata": {},
   "outputs": [
    {
     "name": "stderr",
     "output_type": "stream",
     "text": [
      "C:\\Users\\Abhishek\\AppData\\Local\\Temp\\ipykernel_18888\\656834785.py:14: FutureWarning: \n",
      "\n",
      "Passing `palette` without assigning `hue` is deprecated and will be removed in v0.14.0. Assign the `x` variable to `hue` and set `legend=False` for the same effect.\n",
      "\n",
      "  ax = sns.barplot(x=col_names, y=neg.values, palette=colors)\n"
     ]
    },
    {
     "data": {
      "image/png": "[encoded data removed]",
      "text/plain": [
       "<Figure size 640x480 with 1 Axes>"
      ]
     },
     "metadata": {},
     "output_type": "display_data"
    }
   ],
   "source": [
    "\n",
    "import seaborn as sns\n",
    "import matplotlib.pyplot as plt\n",
    "\n",
    "# Create a pandas series from the numbers\n",
    "neg = pd.Series([mental_number, physical_number, env_number, acad_number, social_number])\n",
    "\n",
    "# Choose column names\n",
    "col_names = [\"Mental\", \"Physical\", \"Environmental\", \"Academic\", \"Social\"]\n",
    "\n",
    "# Manually specifying different colors for each bar\n",
    "colors = ['#FF6347', '#4682B4', '#32CD32', '#FFD700', '#8A2BE2']  # Red, Blue, Green, Yellow, Purple\n",
    "\n",
    "# Create the barplot with custom colors\n",
    "ax = sns.barplot(x=col_names, y=neg.values, palette=colors)\n",
    "\n",
    "# Name the plot\n",
    "ax.set(title=\"Number of students with negative experiences in the different fields\")\n",
    "\n",
    "# Show the number on top of the bar\n",
    "ax.bar_label(ax.containers[0])\n",
    "\n",
    "# Set the y label\n",
    "ax.set_ylabel(\"Number of students\")\n",
    "\n",
    "# Display the plot\n",
    "plt.show()\n",
    "\n",
    "\n",
    "\n",
    "\n",
    "\n"
   ]
  },
  {
   "cell_type": "code",
   "execution_count": 127,
   "id": "3a53be86",
   "metadata": {},
   "outputs": [
    {
     "name": "stdout",
     "output_type": "stream",
     "text": [
      "In mental variables self esteem has the biggest impact.\n",
      "In physical variables sleep quality has the biggest impact.\n",
      "In environmental variables safety\n",
      "In academic variables teacher student relationship has the biggest impact.\n",
      "In social variables social support has the biggest impact.\n"
     ]
    }
   ],
   "source": [
    "#Choose which factor has the biggest impact on stress level within each variable subgroup.\n",
    "print(\"In mental variables\", round(data_corr.iloc[-1:,0:4].abs().max(),2).index.max().replace(\"_\", \" \"), \"has the biggest impact.\")\n",
    "print(\"In physical variables\", round(data_corr.iloc[-1:,4:8].abs().max(),2).index.max().replace(\"_\", \" \"), \"has the biggest impact.\")\n",
    "print(\"In environmental variables\", round(data_corr.iloc[-1:,8:12].abs().max(),2).index.max()), \"has the biggest impact.\"\n",
    "print(\"In academic variables\", round(data_corr.iloc[-1:,12:16].abs().max(),2).index.max().replace(\"_\", \" \"), \"has the biggest impact.\")\n",
    "print(\"In social variables\", round(data_corr.iloc[-1:,16:20].abs().max(),2).index.max().replace(\"_\", \" \"), \"has the biggest impact.\")"
   ]
  },
  {
   "cell_type": "code",
   "execution_count": null,
   "id": "37adf376",
   "metadata": {},
   "outputs": [],
   "source": [
    "\n",
    "# Import the needed modules\n",
    "import pickle\n",
    "from sklearn.model_selection import train_test_split\n",
    "from sklearn.preprocessing import StandardScaler\n",
    "from sklearn.model_selection import GridSearchCV\n",
    "from sklearn.ensemble import RandomForestClassifier\n",
    "from sklearn.metrics import accuracy_score, classification_report, confusion_matrix\n",
    "from sklearn import metrics\n",
    "import numpy as np\n",
    "import pandas as pd\n",
    "import seaborn as sns\n",
    "import matplotlib.pyplot as plt"
   ]
  },
  {
   "cell_type": "code",
   "execution_count": 165,
   "id": "06b9205a",
   "metadata": {},
   "outputs": [],
   "source": [
    "\n",
    "# Features and target\n",
    "X = data.drop('stress_level', axis=1)  # Features: all columns except 'stress_level'\n",
    "y = data['stress_level']  # Target: 'stress_level'\n"
   ]
  },
  {
   "cell_type": "code",
   "execution_count": 166,
   "id": "5c90fd7a",
   "metadata": {},
   "outputs": [],
   "source": [
    "# Split the dataset into training and testing sets\n",
    "X_train, X_test, y_train, y_test = train_test_split(X, y, test_size=0.2, random_state=42)\n"
   ]
  },
  {
   "cell_type": "code",
   "execution_count": 167,
   "id": "0ae8db3c",
   "metadata": {},
   "outputs": [],
   "source": [
    "# Feature scaling (important for most models like RandomForest)\n",
    "scaler = StandardScaler()\n",
    "X_train_scaled = scaler.fit_transform(X_train)\n",
    "X_test_scaled = scaler.transform(X_test)"
   ]
  },
  {
   "cell_type": "code",
   "execution_count": 168,
   "id": "0dce6dc0",
   "metadata": {},
   "outputs": [],
   "source": [
    "\n",
    "# Initialize the RandomForest model\n",
    "rf_model = RandomForestClassifier(random_state=42)\n",
    "\n",
    "# Hyperparameter tuning using GridSearchCV\n",
    "param_grid = {\n",
    "    'n_estimators': [50, 100, 200],        # Number of trees in the forest\n",
    "    'max_depth': [None, 10, 20],           # Maximum depth of the tree\n",
    "    'min_samples_split': [2, 5],           # Minimum number of samples required to split a node\n",
    "    'min_samples_leaf': [1, 2],            # Minimum number of samples required to be at a leaf node\n",
    "    'bootstrap': [True, False]             # Whether bootstrap samples are used when building trees\n",
    "}"
   ]
  },
  {
   "cell_type": "code",
   "execution_count": 169,
   "id": "e694d9be",
   "metadata": {},
   "outputs": [
    {
     "name": "stdout",
     "output_type": "stream",
     "text": [
      "Fitting 3 folds for each of 72 candidates, totalling 216 fits\n",
      "Best Parameters: {'bootstrap': True, 'max_depth': None, 'min_samples_leaf': 1, 'min_samples_split': 5, 'n_estimators': 200}\n",
      "Best Score: 0.8988375782622492\n"
     ]
    }
   ],
   "source": [
    "# Create GridSearchCV object\n",
    "grid_search = GridSearchCV(estimator=rf_model, param_grid=param_grid, cv=3, n_jobs=-1, verbose=2)\n",
    "\n",
    "# Fit GridSearchCV\n",
    "grid_search.fit(X_train_scaled, y_train)\n",
    "\n",
    "# Get the best parameters and the best score\n",
    "print(f\"Best Parameters: {grid_search.best_params_}\")\n",
    "print(f\"Best Score: {grid_search.best_score_}\")"
   ]
  },
  {
   "cell_type": "code",
   "execution_count": 170,
   "id": "e05e98b6",
   "metadata": {},
   "outputs": [
    {
     "name": "stdout",
     "output_type": "stream",
     "text": [
      "Improved Accuracy: 0.8818181818181818\n"
     ]
    }
   ],
   "source": [
    "# Use the best model from GridSearchCV\n",
    "best_rf_model = grid_search.best_estimator_\n",
    "\n",
    "# Predict with the best model\n",
    "y_pred_best = best_rf_model.predict(X_test_scaled)\n",
    "\n",
    "# Evaluate the best model\n",
    "accuracy_best = accuracy_score(y_test, y_pred_best)\n",
    "print(f\"Improved Accuracy: {accuracy_best}\")"
   ]
  },
  {
   "cell_type": "code",
   "execution_count": 171,
   "id": "db9ed256",
   "metadata": {},
   "outputs": [
    {
     "name": "stdout",
     "output_type": "stream",
     "text": [
      "Confusion Matrix:\n",
      "[[67  4  5]\n",
      " [ 5 64  4]\n",
      " [ 6  2 63]]\n",
      "Classification Report:\n",
      "              precision    recall  f1-score   support\n",
      "\n",
      "           0       0.86      0.88      0.87        76\n",
      "           1       0.91      0.88      0.90        73\n",
      "           2       0.88      0.89      0.88        71\n",
      "\n",
      "    accuracy                           0.88       220\n",
      "   macro avg       0.88      0.88      0.88       220\n",
      "weighted avg       0.88      0.88      0.88       220\n",
      "\n"
     ]
    }
   ],
   "source": [
    "# Confusion Matrix and Classification Report\n",
    "conf_matrix = confusion_matrix(y_test, y_pred_best)\n",
    "class_report = classification_report(y_test, y_pred_best)\n",
    "\n",
    "print(\"Confusion Matrix:\")\n",
    "print(conf_matrix)\n",
    "print(\"Classification Report:\")\n",
    "print(class_report)"
   ]
  },
  {
   "cell_type": "code",
   "execution_count": 172,
   "id": "2a4ce15e",
   "metadata": {},
   "outputs": [
    {
     "data": {
      "image/png": "[encoded data removed]",
      "text/plain": [
       "<Figure size 640x480 with 2 Axes>"
      ]
     },
     "metadata": {},
     "output_type": "display_data"
    }
   ],
   "source": [
    "# Optionally, plot the confusion matrix\n",
    "sns.heatmap(conf_matrix, annot=True, fmt=\"d\", cmap=\"Blues\", xticklabels=np.unique(y), yticklabels=np.unique(y))\n",
    "plt.title(\"Confusion Matrix\")\n",
    "plt.xlabel(\"Predicted\")\n",
    "plt.ylabel(\"Actual\")\n",
    "plt.show()\n",
    "\n"
   ]
  },
  {
   "cell_type": "code",
   "execution_count": 173,
   "id": "38a10f12",
   "metadata": {},
   "outputs": [
    {
     "data": {
      "image/png": "[encoded data removed]",
      "text/plain": [
       "<Figure size 1000x600 with 1 Axes>"
      ]
     },
     "metadata": {},
     "output_type": "display_data"
    }
   ],
   "source": [
    "# Feature Importance (optional, helps to understand feature importance)\n",
    "importances = best_rf_model.feature_importances_\n",
    "indices = np.argsort(importances)[::-1]\n",
    "\n",
    "# Plot the feature importances\n",
    "plt.figure(figsize=(10, 6))\n",
    "plt.title(\"Feature Importances\")\n",
    "plt.bar(range(X_train.shape[1]), importances[indices], align=\"center\")\n",
    "plt.xticks(range(X_train.shape[1]), X.columns[indices], rotation=90)\n",
    "plt.xlim([-1, X_train.shape[1]])\n",
    "plt.show()\n",
    "\n"
   ]
  },
  {
   "cell_type": "code",
   "execution_count": 174,
   "id": "7a0c7b3e",
   "metadata": {},
   "outputs": [
    {
     "name": "stdout",
     "output_type": "stream",
     "text": [
      "Model saved and loaded successfully.\n"
     ]
    }
   ],
   "source": [
    "# Save the trained model and scaler using pickle\n",
    "with open(\"random_forest_model.pkl\", \"wb\") as f:\n",
    "    pickle.dump({'model': best_rf_model, 'scaler': scaler}, f)\n",
    "\n",
    "# Optionally, load the saved model for future use\n",
    "with open(\"random_forest_model.pkl\", \"rb\") as f:\n",
    "    loaded_model_data = pickle.load(f)\n",
    "    loaded_model = loaded_model_data['model']\n",
    "    loaded_scaler = loaded_model_data['scaler']\n",
    "\n",
    "print(\"Model saved and loaded successfully.\")\n"
   ]
  }
 ],
 "metadata": {
  "kernelspec": {
   "display_name": "Python 3",
   "language": "python",
   "name": "python3"
  },
  "language_info": {
   "codemirror_mode": {
    "name": "ipython",
    "version": 3
   },
   "file_extension": ".py",
   "mimetype": "text/x-python",
   "name": "python",
   "nbconvert_exporter": "python",
   "pygments_lexer": "ipython3",
   "version": "3.12.2"
  }
 },
 "nbformat": 4,
 "nbformat_minor": 5
}
